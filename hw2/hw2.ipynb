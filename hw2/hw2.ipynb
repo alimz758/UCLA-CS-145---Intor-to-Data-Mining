{
 "cells": [
  {
   "cell_type": "markdown",
   "metadata": {},
   "source": [
    "# CS145 Howework 2\n",
    "\n",
    "\n",
    "<span style=\"color:red\"> **Important Note:** </span>\n",
    "HW2 is due on **11:59 PM PT, Oct 30 (Friday, Week 4)**. Please submit through GradeScope. \n",
    "\n",
    "## Print Out Your Name and UID\n",
    "\n",
    "<span style=\"color:blue\"> **Name: Ali Mirabzadeh, UID: 305179067 ** </span>\n",
    "\n",
    "## Before You Start\n",
    "\n",
    "You need to first create HW2 conda environment by the given `cs145hw2.yml` file, which provides the name and necessary packages for this tasks. If you have `conda` properly installed, you may create, activate or deactivate by the following commands:\n",
    "\n",
    "```\n",
    "conda env create -f cs145hw2.yml\n",
    "conda activate hw1\n",
    "conda deactivate\n",
    "```\n",
    "OR \n",
    "\n",
    "```\n",
    "conda env create --name NAMEOFYOURCHOICE -f cs145hw2.yml \n",
    "conda activate NAMEOFYOURCHOICE\n",
    "conda deactivate\n",
    "```\n",
    "To view the list of your environments, use the following command:\n",
    "```\n",
    "conda env list\n",
    "```\n",
    "\n",
    "More useful information about managing environments can be found [here](https://docs.conda.io/projects/conda/en/latest/user-guide/tasks/manage-environments.html).\n",
    "\n",
    "You may also quickly review the usage of basic Python and Numpy package, if needed in coding for matrix operations.\n",
    "\n",
    "In this notebook, you must not delete any code cells in this notebook. If you change any code outside the blocks (such as some important hyperparameters) that you are allowed to edit (between STRART/END YOUR CODE HERE), you need to highlight these changes. You may add some additional cells to help explain your results and observations."
   ]
  },
  {
   "cell_type": "code",
   "execution_count": 2,
   "metadata": {
    "tags": []
   },
   "outputs": [
    {
     "output_type": "stream",
     "name": "stdout",
     "text": "The autoreload extension is already loaded. To reload it, use:\n  %reload_ext autoreload\n"
    }
   ],
   "source": [
    "import numpy as np \n",
    "import pandas as pd\n",
    "import seaborn as sns\n",
    "import sys \n",
    "import random as rd\n",
    "import matplotlib.pyplot as plt\n",
    "%load_ext autoreload\n",
    "%autoreload 2"
   ]
  },
  {
   "cell_type": "markdown",
   "metadata": {},
   "source": [
    "If you can successfully run the code above, there will be no problem for environment setting."
   ]
  },
  {
   "cell_type": "markdown",
   "metadata": {},
   "source": [
    "## 1. Decision trees\n",
    "This workbook will walk you through a decision tree. "
   ]
  },
  {
   "cell_type": "markdown",
   "metadata": {},
   "source": [
    "### 1.1 Attribute selection measures\n"
   ]
  },
  {
   "cell_type": "markdown",
   "metadata": {},
   "source": [
    "For classification models, misclassification rate is usually used as the final performance measurement. However, for classification trees, when selecting which attribute to split, measurements people often use includes information gain, gain ratio, and Gini index. Let's investigate these different measurements through the following problem."
   ]
  },
  {
   "cell_type": "markdown",
   "metadata": {},
   "source": [
    "Note: below shows how to calculate the misclassification rate of a classification tree with $N$ total data points, $K$ classes of the value we want to predict, and $M$ leaf nodes. \n",
    "\n",
    "In a node $m$, $m = 1, ..., M$, let's denote the number of data points using $N_m$, and the number of data points in class k as $N_{mk}$, so the class prediction under majority vote is $j = argmax_k N_{mk}$. The misclassification rate of this node m is $R_m = 1 - \\frac{N_{mj}}{N_m}$. The total misclassification rate of the tree will be $R = \\frac{\\sum_{m=1}^M R_m * N_m}{N}$ "
   ]
  },
  {
   "cell_type": "markdown",
   "metadata": {},
   "source": [
    "\n",
    "**Questions**\n",
    "\n",
    "<span style=\"color:red\"> Note: this question is a pure \"question answer\" problem. You don't need to do any coding. </span>\n",
    "\n",
    "Suppose our dataset includes a total of 800 people with 400 males and 400 females, and our goal is to do gender classification. Consider two different possible attributes we can split on in a decision tree model. Split on the first attribute results in a node11 with 300 male and 100 female, and a node12 with 100 male and 300 female. Split on the second attribute results in in a node21 with 400 male and 200 female, and a node22 with 200 female only."
   ]
  },
  {
   "cell_type": "markdown",
   "metadata": {},
   "source": [
    "1. Which split do you prefer when the measurement is misclassifcation rate and why?\n",
    "2. What is the entropy in each of these four node? \n",
    "3. What is the information gain of each of the two splits?\n",
    "4. Which split do you prefer if the measurement is information gain. Do you see why it is an uncertainty or impurity measurement?\n",
    "5. What is the gain ratio (normalized information gain) of each of the two splits? Which split do you prefer under this measurement. Do you get the same conclusion as information gain? "
   ]
  },
  {
   "cell_type": "markdown",
   "metadata": {},
   "source": [
    "**Your answer here:**\n"
   ]
  },
  {
   "cell_type": "markdown",
   "metadata": {},
   "source": [
    "<span style=\"color:red\"> Note: you can use several code cells to help you compute the results and answer the questions. Again you don't need to do any coding. </span>"
   ]
  },
  {
   "cell_type": "markdown",
   "metadata": {},
   "source": [
    "<span style=\"color:blue\"> Please type your answer here! </span>"
   ]
  },
  {
   "cell_type": "markdown",
   "metadata": {},
   "source": [
    "answer 1: I prefer the first split as the two genders are splitted on both nodes where as for the second attribute node22 doesn't have Males in its node"
   ]
  },
  {
   "cell_type": "markdown",
   "metadata": {},
   "source": [
    "answer 2 : <br>node11: $entropy(3/4, 1/4) = -3/4log2(3/4) - 1/4log2(1/4) = 0.811$\n",
    "<br>node12: $entropy(1/4, 3/4) = - 1/4log2(1/4) -3/4log2(3/4) = 0.811$ <br>\n",
    "node21: $entropy(2/3, 1/3) = - 2/3log2(2/3) -1/3log2(1/3) = 0.918$ <br>\n",
    "node22: $entropy(0, 1) = -0log2(0) -1log2(1)$ = 0"
   ]
  },
  {
   "cell_type": "markdown",
   "metadata": {},
   "source": [
    "$info(before split1) = entropy(1/2, 1/2) = 1$ <br>\n",
    "$info(before split2) = entropy(3/4, 1/4) = \n",
    "0.811\n",
    " $"
   ]
  },
  {
   "cell_type": "markdown",
   "metadata": {},
   "source": [
    "answer 3: <br>\n",
    "info gain(split1) = $info([400,400]) - info([300, 100], [100, 300]) = 1 - ( (1/2)0.811) + (1/2) *0.811) = 0.189$ <br>\n",
    "info gain(split2) = $info([600,200]) - info([400, 200], [0, 200]) = 0.811 - ( (3/4)0.918) + (1/4) *0) = 0.122$ "
   ]
  },
  {
   "cell_type": "markdown",
   "metadata": {},
   "source": [
    "answer 4: Split one is better as it has a better information gain. Yes, I can see that information gain is biased towards attributes with larger values "
   ]
  },
  {
   "cell_type": "markdown",
   "metadata": {},
   "source": [
    "answer 5: <br>\n",
    "Gain Ratio (split1) = $0.189 / 1 = 0.189$ <br>\n",
    "Gain Ratio (split2) = $0.122 / 0.811 = 0.150$ <br>\n",
    "I still prefer split1 as it has a larger value and got the same result"
   ]
  },
  {
   "cell_type": "markdown",
   "metadata": {},
   "source": [
    "## 1.2 Coding decision trees"
   ]
  },
  {
   "cell_type": "markdown",
   "metadata": {},
   "source": [
    "In this section, we are going to use the decision tree model to predict the the animal `type` class of the `zoo` dataset. The dataset has been preprocessed and splited into `decision-tree-train.csv` and `decision-tree-test.csv` for you.\n",
    "\n"
   ]
  },
  {
   "cell_type": "code",
   "execution_count": 7,
   "metadata": {
    "scrolled": true,
    "tags": []
   },
   "outputs": [
    {
     "output_type": "stream",
     "name": "stdout",
     "text": "Training data shape:  (80, 17)\nTesting data shape: (21, 17)\n"
    }
   ],
   "source": [
    "from hw2code.decision_tree import DecisionTree\n",
    "mytree = DecisionTree()\n",
    "mytree.load_data('./data/decision-tree-train.csv','./data/decision-tree-test.csv')\n",
    "# As a sanity check, we print out the size of the training data (80, 17) and testing data (21, 17)\n",
    "print('Training data shape: ', mytree.train_data.shape)\n",
    "print('Testing data shape:', mytree.test_data.shape)"
   ]
  },
  {
   "cell_type": "markdown",
   "metadata": {},
   "source": [
    "### 1.2.1 Infomation gain"
   ]
  },
  {
   "cell_type": "markdown",
   "metadata": {},
   "source": [
    "Complete the `make_tree` and `compute_info_gain` function in `decision_tree.py`. \n",
    "\n",
    "Train you model using `info_gain` measure to classify `type` and print the test accuracy."
   ]
  },
  {
   "cell_type": "code",
   "execution_count": 8,
   "metadata": {
    "tags": []
   },
   "outputs": [
    {
     "output_type": "stream",
     "name": "stdout",
     "text": "best_feature is:  legs\nbest_feature is:  fins\nbest_feature is:  toothed\nbest_feature is:  eggs\nbest_feature is:  hair\nbest_feature is:  hair\nbest_feature is:  toothed\nbest_feature is:  aquatic\nTest accuracy is:  0.8571428571428571\n"
    }
   ],
   "source": [
    "mytree = DecisionTree()\n",
    "mytree.load_data('./data/decision-tree-train.csv','./data/decision-tree-test.csv')\n",
    "test_acc= 0\n",
    "#========================#\n",
    "# STRART YOUR CODE HERE  #\n",
    "#========================#\n",
    "mytree.train('type', 'info_gain')\n",
    "test_acc = mytree.test('type')\n",
    "#========================#\n",
    "#   END YOUR CODE HERE   #\n",
    "#========================# \n",
    "print('Test accuracy is: ', test_acc)"
   ]
  },
  {
   "cell_type": "markdown",
   "metadata": {},
   "source": [
    "### 1.2.2 Gain ratio"
   ]
  },
  {
   "cell_type": "markdown",
   "metadata": {},
   "source": [
    "Complete the `compute_gain_ratio` function in `decision_tree.py`. \n",
    "\n",
    "Train you model using `gain_ratio` measure to classify `type` and print the test accuracy."
   ]
  },
  {
   "cell_type": "code",
   "execution_count": 9,
   "metadata": {
    "tags": []
   },
   "outputs": [
    {
     "output_type": "stream",
     "name": "stdout",
     "text": "best_feature is:  feathers\nbest_feature is:  backbone\nbest_feature is:  airborne\nbest_feature is:  predator\nbest_feature is:  milk\nbest_feature is:  fins\nbest_feature is:  legs\nTest accuracy is:  0.8095238095238095\n"
    }
   ],
   "source": [
    "mytree = DecisionTree()\n",
    "mytree.load_data('./data/decision-tree-train.csv','./data/decision-tree-test.csv')\n",
    "test_acc = 0\n",
    "#========================#\n",
    "# STRART YOUR CODE HERE  #\n",
    "#========================#\n",
    "mytree.train('type', 'gain_ratio')\n",
    "test_acc = mytree.test('type')\n",
    "#========================#\n",
    "#   END YOUR CODE HERE   #\n",
    "#========================# \n",
    "print('Test accuracy is: ', test_acc)"
   ]
  },
  {
   "cell_type": "markdown",
   "metadata": {},
   "source": [
    "**Question**\n",
    "\n",
    "Which measure do you like the most and why? "
   ]
  },
  {
   "cell_type": "markdown",
   "metadata": {},
   "source": [
    "**Your answer here:**\n"
   ]
  },
  {
   "cell_type": "markdown",
   "metadata": {},
   "source": [
    "<span style=\"color:blue\"> I would chose information gain as it has a better accuracy. Here the lower accuracy for Gain Ratio might be becasue it reduced the bias towards multi-valued attributes. </span>"
   ]
  },
  {
   "cell_type": "markdown",
   "metadata": {},
   "source": [
    "## 2. SVM \n",
    "This workbook will walk you through a SVM. "
   ]
  },
  {
   "cell_type": "markdown",
   "metadata": {},
   "source": [
    "### 2.1 Support vectors and decision boundary\n",
    "\n",
    "<span style=\"color:red\"> Note: for this question you can work entirely in the Jupyter Notebook, no need to edit any .py files. </span>"
   ]
  },
  {
   "cell_type": "markdown",
   "metadata": {},
   "source": [
    "Consider classifying the following 20 data points in the 2-d plane with class label y"
   ]
  },
  {
   "cell_type": "code",
   "execution_count": 11,
   "metadata": {
    "tags": []
   },
   "outputs": [
    {
     "output_type": "execute_result",
     "data": {
      "text/plain": "      x1    x2  y\n0   0.52 -1.00  1\n1   0.91  0.32  1\n2  -1.48  1.23  1\n3   0.01  1.44  1\n4  -0.46 -0.37  1\n5   0.41  2.04  1\n6   0.53  0.77  1\n7  -1.21 -1.10  1\n8  -0.39  0.96  1\n9  -0.96  0.08  1\n10  2.46  2.59 -1\n11  3.05  2.87 -1\n12  2.20  3.04 -1\n13  1.89  2.64 -1\n14  4.51 -0.52 -1\n15  3.06  1.30 -1\n16  3.16 -0.56 -1\n17  2.05  1.54 -1\n18  2.34  0.72 -1\n19  2.94  0.13 -1",
      "text/html": "<div>\n<style scoped>\n    .dataframe tbody tr th:only-of-type {\n        vertical-align: middle;\n    }\n\n    .dataframe tbody tr th {\n        vertical-align: top;\n    }\n\n    .dataframe thead th {\n        text-align: right;\n    }\n</style>\n<table border=\"1\" class=\"dataframe\">\n  <thead>\n    <tr style=\"text-align: right;\">\n      <th></th>\n      <th>x1</th>\n      <th>x2</th>\n      <th>y</th>\n    </tr>\n  </thead>\n  <tbody>\n    <tr>\n      <th>0</th>\n      <td>0.52</td>\n      <td>-1.00</td>\n      <td>1</td>\n    </tr>\n    <tr>\n      <th>1</th>\n      <td>0.91</td>\n      <td>0.32</td>\n      <td>1</td>\n    </tr>\n    <tr>\n      <th>2</th>\n      <td>-1.48</td>\n      <td>1.23</td>\n      <td>1</td>\n    </tr>\n    <tr>\n      <th>3</th>\n      <td>0.01</td>\n      <td>1.44</td>\n      <td>1</td>\n    </tr>\n    <tr>\n      <th>4</th>\n      <td>-0.46</td>\n      <td>-0.37</td>\n      <td>1</td>\n    </tr>\n    <tr>\n      <th>5</th>\n      <td>0.41</td>\n      <td>2.04</td>\n      <td>1</td>\n    </tr>\n    <tr>\n      <th>6</th>\n      <td>0.53</td>\n      <td>0.77</td>\n      <td>1</td>\n    </tr>\n    <tr>\n      <th>7</th>\n      <td>-1.21</td>\n      <td>-1.10</td>\n      <td>1</td>\n    </tr>\n    <tr>\n      <th>8</th>\n      <td>-0.39</td>\n      <td>0.96</td>\n      <td>1</td>\n    </tr>\n    <tr>\n      <th>9</th>\n      <td>-0.96</td>\n      <td>0.08</td>\n      <td>1</td>\n    </tr>\n    <tr>\n      <th>10</th>\n      <td>2.46</td>\n      <td>2.59</td>\n      <td>-1</td>\n    </tr>\n    <tr>\n      <th>11</th>\n      <td>3.05</td>\n      <td>2.87</td>\n      <td>-1</td>\n    </tr>\n    <tr>\n      <th>12</th>\n      <td>2.20</td>\n      <td>3.04</td>\n      <td>-1</td>\n    </tr>\n    <tr>\n      <th>13</th>\n      <td>1.89</td>\n      <td>2.64</td>\n      <td>-1</td>\n    </tr>\n    <tr>\n      <th>14</th>\n      <td>4.51</td>\n      <td>-0.52</td>\n      <td>-1</td>\n    </tr>\n    <tr>\n      <th>15</th>\n      <td>3.06</td>\n      <td>1.30</td>\n      <td>-1</td>\n    </tr>\n    <tr>\n      <th>16</th>\n      <td>3.16</td>\n      <td>-0.56</td>\n      <td>-1</td>\n    </tr>\n    <tr>\n      <th>17</th>\n      <td>2.05</td>\n      <td>1.54</td>\n      <td>-1</td>\n    </tr>\n    <tr>\n      <th>18</th>\n      <td>2.34</td>\n      <td>0.72</td>\n      <td>-1</td>\n    </tr>\n    <tr>\n      <th>19</th>\n      <td>2.94</td>\n      <td>0.13</td>\n      <td>-1</td>\n    </tr>\n  </tbody>\n</table>\n</div>"
     },
     "metadata": {},
     "execution_count": 11
    }
   ],
   "source": [
    "ds = pd.read_csv('data/svm-2d-data.csv')\n",
    "ds\n",
    "# This command above will print out the first five data points\n",
    "# in the dataset with column names as \"x1\", \"x2\" and \"y\"\n",
    "# You may use command \"ds\" to show the entire dataset, which contains 20 data points"
   ]
  },
  {
   "cell_type": "markdown",
   "metadata": {},
   "source": [
    "Suppose by solving the dual form of the quadratic programming of svm, we can derive the $\\alpha_i$’s for each data point as follows: Among $j=0,1,\\cdots, 19$ (note that the index starts from 0), $\\alpha_1$ = 0.5084, $\\alpha_5$ = 0.4625, $\\alpha_{17}$ = 0.9709, and $\\alpha_j$ = 0 for all other $j$."
   ]
  },
  {
   "cell_type": "markdown",
   "metadata": {},
   "source": [
    "**Questions** \n"
   ]
  },
  {
   "cell_type": "markdown",
   "metadata": {},
   "source": [
    "1. Which vectors in the training points are support vectors?\n",
    "2. What is the normal vector of the hyperplane $w$? \n",
    "3. What is the bias $b$? \n",
    "4. With the parameters $w$ and $b$, we can now use our SVM to do predictions. What is predicted label of $x_{new} = (2,-0.5)$? Write out your $f(x_{new})$.\n",
    "5. A plot of the data points has been generated for you. Please change the `support_vec` variable such that only the support vectors are indicated by red circles. Please also fill in the code to draw the decision boundary. Does your prediction of part 4 seems right visually on the plot?\n",
    "\n"
   ]
  },
  {
   "cell_type": "markdown",
   "metadata": {},
   "source": [
    "**Your answer here**\n"
   ]
  },
  {
   "cell_type": "markdown",
   "metadata": {},
   "source": [
    "<span style=\"color:red\"> Note: you can use several code cells to help you compute the results and answer the questions. Again you don't need to edit any .py files. </span>"
   ]
  },
  {
   "cell_type": "markdown",
   "metadata": {},
   "source": [
    "<span style=\"color:blue\"> Please type your answer here! </span>"
   ]
  },
  {
   "cell_type": "markdown",
   "metadata": {},
   "source": [
    "answer 1: The support vectors are those with a non-zero alpha: data points 1, 5, and 17(indexed 0) :\n",
    "<0.91, 0.32>, <0.41, 2.04>, <2.05, 1.54>"
   ]
  },
  {
   "cell_type": "markdown",
   "metadata": {},
   "source": [
    "answer 2: $w = {\\sum_{i} (\\alpha_i * y_i * x_i})$  =>\n",
    "$w = <-1.34, 0.39>$"
   ]
  },
  {
   "cell_type": "markdown",
   "metadata": {},
   "source": [
    "answer 3: $b =\\frac{\\sum y_k - w^T x_k}{N_k}$ => b = 2.34"
   ]
  },
  {
   "cell_type": "markdown",
   "metadata": {},
   "source": [
    "answer 4: $f(x_{new}) = -1.34x_1 - 0.39x_2 + 2.34$ => $f(x_{new})$ = -0.14"
   ]
  },
  {
   "cell_type": "code",
   "execution_count": 23,
   "metadata": {},
   "outputs": [
    {
     "output_type": "display_data",
     "data": {
      "text/plain": "<Figure size 720x576 with 1 Axes>",
      "image/svg+xml": "<?xml version=\"1.0\" encoding=\"utf-8\" standalone=\"no\"?>\n<!DOCTYPE svg PUBLIC \"-//W3C//DTD SVG 1.1//EN\"\n  \"http://www.w3.org/Graphics/SVG/1.1/DTD/svg11.dtd\">\n<!-- Created with matplotlib (https://matplotlib.org/) -->\n<svg height=\"465.958125pt\" version=\"1.1\" viewBox=\"0 0 603.682813 465.958125\" width=\"603.682813pt\" xmlns=\"http://www.w3.org/2000/svg\" xmlns:xlink=\"http://www.w3.org/1999/xlink\">\n <defs>\n  <style type=\"text/css\">\n*{stroke-linecap:butt;stroke-linejoin:round;}\n  </style>\n </defs>\n <g id=\"figure_1\">\n  <g id=\"patch_1\">\n   <path d=\"M 0 465.958125 \nL 603.682813 465.958125 \nL 603.682813 0 \nL 0 0 \nz\n\" style=\"fill:none;\"/>\n  </g>\n  <g id=\"axes_1\">\n   <g id=\"patch_2\">\n    <path d=\"M 38.482813 442.08 \nL 596.482813 442.08 \nL 596.482813 7.2 \nL 38.482813 7.2 \nz\n\" style=\"fill:#ffffff;\"/>\n   </g>\n   <g id=\"PathCollection_1\">\n    <defs>\n     <path d=\"M 0 3 \nC 0.795609 3 1.55874 2.683901 2.12132 2.12132 \nC 2.683901 1.55874 3 0.795609 3 0 \nC 3 -0.795609 2.683901 -1.55874 2.12132 -2.12132 \nC 1.55874 -2.683901 0.795609 -3 0 -3 \nC -0.795609 -3 -1.55874 -2.683901 -2.12132 -2.12132 \nC -2.683901 -1.55874 -3 -0.795609 -3 0 \nC -3 0.795609 -2.683901 1.55874 -2.12132 2.12132 \nC -1.55874 2.683901 -0.795609 3 0 3 \nz\n\" id=\"C0_0_238f948fac\"/>\n    </defs>\n    <g clip-path=\"url(#p9867433115)\">\n     <use style=\"fill:#fde725;stroke:#fde725;\" x=\"233.219647\" xlink:href=\"#C0_0_238f948fac\" y=\"318.730532\"/>\n    </g>\n    <g clip-path=\"url(#p9867433115)\">\n     <use style=\"fill:#fde725;stroke:#fde725;\" x=\"266.24742\" xlink:href=\"#C0_0_238f948fac\" y=\"231.939982\"/>\n    </g>\n    <g clip-path=\"url(#p9867433115)\">\n     <use style=\"fill:#fde725;stroke:#fde725;\" x=\"63.846449\" xlink:href=\"#C0_0_238f948fac\" y=\"172.107103\"/>\n    </g>\n    <g clip-path=\"url(#p9867433115)\">\n     <use style=\"fill:#fde725;stroke:#fde725;\" x=\"190.029481\" xlink:href=\"#C0_0_238f948fac\" y=\"158.299515\"/>\n    </g>\n    <g clip-path=\"url(#p9867433115)\">\n     <use style=\"fill:#fde725;stroke:#fde725;\" x=\"150.22678\" xlink:href=\"#C0_0_238f948fac\" y=\"277.30777\"/>\n    </g>\n    <g clip-path=\"url(#p9867433115)\">\n     <use style=\"fill:#fde725;stroke:#fde725;\" x=\"223.904121\" xlink:href=\"#C0_0_238f948fac\" y=\"118.849265\"/>\n    </g>\n    <g clip-path=\"url(#p9867433115)\">\n     <use style=\"fill:#fde725;stroke:#fde725;\" x=\"234.066513\" xlink:href=\"#C0_0_238f948fac\" y=\"202.352295\"/>\n    </g>\n    <g clip-path=\"url(#p9867433115)\">\n     <use style=\"fill:#fde725;stroke:#fde725;\" x=\"86.711831\" xlink:href=\"#C0_0_238f948fac\" y=\"325.305574\"/>\n    </g>\n    <g clip-path=\"url(#p9867433115)\">\n     <use style=\"fill:#fde725;stroke:#fde725;\" x=\"156.154842\" xlink:href=\"#C0_0_238f948fac\" y=\"189.859715\"/>\n    </g>\n    <g clip-path=\"url(#p9867433115)\">\n     <use style=\"fill:#fde725;stroke:#fde725;\" x=\"107.88348\" xlink:href=\"#C0_0_238f948fac\" y=\"247.720082\"/>\n    </g>\n    <g clip-path=\"url(#p9867433115)\">\n     <use style=\"fill:#440154;stroke:#440154;\" x=\"397.511648\" xlink:href=\"#C0_0_238f948fac\" y=\"82.686536\"/>\n    </g>\n    <g clip-path=\"url(#p9867433115)\">\n     <use style=\"fill:#440154;stroke:#440154;\" x=\"447.476742\" xlink:href=\"#C0_0_238f948fac\" y=\"64.276419\"/>\n    </g>\n    <g clip-path=\"url(#p9867433115)\">\n     <use style=\"fill:#440154;stroke:#440154;\" x=\"375.493133\" xlink:href=\"#C0_0_238f948fac\" y=\"53.098849\"/>\n    </g>\n    <g clip-path=\"url(#p9867433115)\">\n     <use style=\"fill:#440154;stroke:#440154;\" x=\"349.240287\" xlink:href=\"#C0_0_238f948fac\" y=\"79.399015\"/>\n    </g>\n    <g clip-path=\"url(#p9867433115)\">\n     <use style=\"fill:#440154;stroke:#440154;\" x=\"571.119176\" xlink:href=\"#C0_0_238f948fac\" y=\"287.170332\"/>\n    </g>\n    <g clip-path=\"url(#p9867433115)\">\n     <use style=\"fill:#440154;stroke:#440154;\" x=\"448.323608\" xlink:href=\"#C0_0_238f948fac\" y=\"167.504574\"/>\n    </g>\n    <g clip-path=\"url(#p9867433115)\">\n     <use style=\"fill:#440154;stroke:#440154;\" x=\"456.792268\" xlink:href=\"#C0_0_238f948fac\" y=\"289.800349\"/>\n    </g>\n    <g clip-path=\"url(#p9867433115)\">\n     <use style=\"fill:#440154;stroke:#440154;\" x=\"362.790143\" xlink:href=\"#C0_0_238f948fac\" y=\"151.724474\"/>\n    </g>\n    <g clip-path=\"url(#p9867433115)\">\n     <use style=\"fill:#440154;stroke:#440154;\" x=\"387.349257\" xlink:href=\"#C0_0_238f948fac\" y=\"205.639815\"/>\n    </g>\n    <g clip-path=\"url(#p9867433115)\">\n     <use style=\"fill:#440154;stroke:#440154;\" x=\"438.161216\" xlink:href=\"#C0_0_238f948fac\" y=\"244.432561\"/>\n    </g>\n   </g>\n   <g id=\"PathCollection_2\">\n    <defs>\n     <path d=\"M 0 7.071068 \nC 1.875269 7.071068 3.673985 6.326016 5 5 \nC 6.326016 3.673985 7.071068 1.875269 7.071068 0 \nC 7.071068 -1.875269 6.326016 -3.673985 5 -5 \nC 3.673985 -6.326016 1.875269 -7.071068 0 -7.071068 \nC -1.875269 -7.071068 -3.673985 -6.326016 -5 -5 \nC -6.326016 -3.673985 -7.071068 -1.875269 -7.071068 0 \nC -7.071068 1.875269 -6.326016 3.673985 -5 5 \nC -3.673985 6.326016 -1.875269 7.071068 0 7.071068 \nz\n\" id=\"C1_0_d275e12028\"/>\n    </defs>\n    <g clip-path=\"url(#p9867433115)\">\n     <use style=\"fill:none;stroke:#ff0000;\" x=\"266.24742\" xlink:href=\"#C1_0_d275e12028\" y=\"231.939982\"/>\n    </g>\n    <g clip-path=\"url(#p9867433115)\">\n     <use style=\"fill:none;stroke:#ff0000;\" x=\"223.904121\" xlink:href=\"#C1_0_d275e12028\" y=\"118.849265\"/>\n    </g>\n    <g clip-path=\"url(#p9867433115)\">\n     <use style=\"fill:none;stroke:#ff0000;\" x=\"362.790143\" xlink:href=\"#C1_0_d275e12028\" y=\"151.724474\"/>\n    </g>\n   </g>\n   <g id=\"matplotlib.axis_1\">\n    <g id=\"xtick_1\">\n     <g id=\"line2d_1\">\n      <path clip-path=\"url(#p9867433115)\" d=\"M 62.152717 442.08 \nL 62.152717 7.2 \n\" style=\"fill:none;stroke:#b0b0b0;stroke-linecap:square;stroke-width:0.8;\"/>\n     </g>\n     <g id=\"line2d_2\">\n      <defs>\n       <path d=\"M 0 0 \nL 0 3.5 \n\" id=\"me41a3f672b\" style=\"stroke:#000000;stroke-width:0.8;\"/>\n      </defs>\n      <g>\n       <use style=\"stroke:#000000;stroke-width:0.8;\" x=\"62.152717\" xlink:href=\"#me41a3f672b\" y=\"442.08\"/>\n      </g>\n     </g>\n     <g id=\"text_1\">\n      <!-- −1.5 -->\n      <defs>\n       <path d=\"M 10.59375 35.5 \nL 73.1875 35.5 \nL 73.1875 27.203125 \nL 10.59375 27.203125 \nz\n\" id=\"DejaVuSans-8722\"/>\n       <path d=\"M 12.40625 8.296875 \nL 28.515625 8.296875 \nL 28.515625 63.921875 \nL 10.984375 60.40625 \nL 10.984375 69.390625 \nL 28.421875 72.90625 \nL 38.28125 72.90625 \nL 38.28125 8.296875 \nL 54.390625 8.296875 \nL 54.390625 0 \nL 12.40625 0 \nz\n\" id=\"DejaVuSans-49\"/>\n       <path d=\"M 10.6875 12.40625 \nL 21 12.40625 \nL 21 0 \nL 10.6875 0 \nz\n\" id=\"DejaVuSans-46\"/>\n       <path d=\"M 10.796875 72.90625 \nL 49.515625 72.90625 \nL 49.515625 64.59375 \nL 19.828125 64.59375 \nL 19.828125 46.734375 \nQ 21.96875 47.46875 24.109375 47.828125 \nQ 26.265625 48.1875 28.421875 48.1875 \nQ 40.625 48.1875 47.75 41.5 \nQ 54.890625 34.8125 54.890625 23.390625 \nQ 54.890625 11.625 47.5625 5.09375 \nQ 40.234375 -1.421875 26.90625 -1.421875 \nQ 22.3125 -1.421875 17.546875 -0.640625 \nQ 12.796875 0.140625 7.71875 1.703125 \nL 7.71875 11.625 \nQ 12.109375 9.234375 16.796875 8.0625 \nQ 21.484375 6.890625 26.703125 6.890625 \nQ 35.15625 6.890625 40.078125 11.328125 \nQ 45.015625 15.765625 45.015625 23.390625 \nQ 45.015625 31 40.078125 35.4375 \nQ 35.15625 39.890625 26.703125 39.890625 \nQ 22.75 39.890625 18.8125 39.015625 \nQ 14.890625 38.140625 10.796875 36.28125 \nz\n\" id=\"DejaVuSans-53\"/>\n      </defs>\n      <g transform=\"translate(50.011311 456.678437)scale(0.1 -0.1)\">\n       <use xlink:href=\"#DejaVuSans-8722\"/>\n       <use x=\"83.789062\" xlink:href=\"#DejaVuSans-49\"/>\n       <use x=\"147.412109\" xlink:href=\"#DejaVuSans-46\"/>\n       <use x=\"179.199219\" xlink:href=\"#DejaVuSans-53\"/>\n      </g>\n     </g>\n    </g>\n    <g id=\"xtick_2\">\n     <g id=\"line2d_3\">\n      <path clip-path=\"url(#p9867433115)\" d=\"M 104.496016 442.08 \nL 104.496016 7.2 \n\" style=\"fill:none;stroke:#b0b0b0;stroke-linecap:square;stroke-width:0.8;\"/>\n     </g>\n     <g id=\"line2d_4\">\n      <g>\n       <use style=\"stroke:#000000;stroke-width:0.8;\" x=\"104.496016\" xlink:href=\"#me41a3f672b\" y=\"442.08\"/>\n      </g>\n     </g>\n     <g id=\"text_2\">\n      <!-- −1.0 -->\n      <defs>\n       <path d=\"M 31.78125 66.40625 \nQ 24.171875 66.40625 20.328125 58.90625 \nQ 16.5 51.421875 16.5 36.375 \nQ 16.5 21.390625 20.328125 13.890625 \nQ 24.171875 6.390625 31.78125 6.390625 \nQ 39.453125 6.390625 43.28125 13.890625 \nQ 47.125 21.390625 47.125 36.375 \nQ 47.125 51.421875 43.28125 58.90625 \nQ 39.453125 66.40625 31.78125 66.40625 \nz\nM 31.78125 74.21875 \nQ 44.046875 74.21875 50.515625 64.515625 \nQ 56.984375 54.828125 56.984375 36.375 \nQ 56.984375 17.96875 50.515625 8.265625 \nQ 44.046875 -1.421875 31.78125 -1.421875 \nQ 19.53125 -1.421875 13.0625 8.265625 \nQ 6.59375 17.96875 6.59375 36.375 \nQ 6.59375 54.828125 13.0625 64.515625 \nQ 19.53125 74.21875 31.78125 74.21875 \nz\n\" id=\"DejaVuSans-48\"/>\n      </defs>\n      <g transform=\"translate(92.35461 456.678437)scale(0.1 -0.1)\">\n       <use xlink:href=\"#DejaVuSans-8722\"/>\n       <use x=\"83.789062\" xlink:href=\"#DejaVuSans-49\"/>\n       <use x=\"147.412109\" xlink:href=\"#DejaVuSans-46\"/>\n       <use x=\"179.199219\" xlink:href=\"#DejaVuSans-48\"/>\n      </g>\n     </g>\n    </g>\n    <g id=\"xtick_3\">\n     <g id=\"line2d_5\">\n      <path clip-path=\"url(#p9867433115)\" d=\"M 146.839316 442.08 \nL 146.839316 7.2 \n\" style=\"fill:none;stroke:#b0b0b0;stroke-linecap:square;stroke-width:0.8;\"/>\n     </g>\n     <g id=\"line2d_6\">\n      <g>\n       <use style=\"stroke:#000000;stroke-width:0.8;\" x=\"146.839316\" xlink:href=\"#me41a3f672b\" y=\"442.08\"/>\n      </g>\n     </g>\n     <g id=\"text_3\">\n      <!-- −0.5 -->\n      <g transform=\"translate(134.69791 456.678437)scale(0.1 -0.1)\">\n       <use xlink:href=\"#DejaVuSans-8722\"/>\n       <use x=\"83.789062\" xlink:href=\"#DejaVuSans-48\"/>\n       <use x=\"147.412109\" xlink:href=\"#DejaVuSans-46\"/>\n       <use x=\"179.199219\" xlink:href=\"#DejaVuSans-53\"/>\n      </g>\n     </g>\n    </g>\n    <g id=\"xtick_4\">\n     <g id=\"line2d_7\">\n      <path clip-path=\"url(#p9867433115)\" d=\"M 189.182615 442.08 \nL 189.182615 7.2 \n\" style=\"fill:none;stroke:#b0b0b0;stroke-linecap:square;stroke-width:0.8;\"/>\n     </g>\n     <g id=\"line2d_8\">\n      <g>\n       <use style=\"stroke:#000000;stroke-width:0.8;\" x=\"189.182615\" xlink:href=\"#me41a3f672b\" y=\"442.08\"/>\n      </g>\n     </g>\n     <g id=\"text_4\">\n      <!-- 0.0 -->\n      <g transform=\"translate(181.231053 456.678437)scale(0.1 -0.1)\">\n       <use xlink:href=\"#DejaVuSans-48\"/>\n       <use x=\"63.623047\" xlink:href=\"#DejaVuSans-46\"/>\n       <use x=\"95.410156\" xlink:href=\"#DejaVuSans-48\"/>\n      </g>\n     </g>\n    </g>\n    <g id=\"xtick_5\">\n     <g id=\"line2d_9\">\n      <path clip-path=\"url(#p9867433115)\" d=\"M 231.525915 442.08 \nL 231.525915 7.2 \n\" style=\"fill:none;stroke:#b0b0b0;stroke-linecap:square;stroke-width:0.8;\"/>\n     </g>\n     <g id=\"line2d_10\">\n      <g>\n       <use style=\"stroke:#000000;stroke-width:0.8;\" x=\"231.525915\" xlink:href=\"#me41a3f672b\" y=\"442.08\"/>\n      </g>\n     </g>\n     <g id=\"text_5\">\n      <!-- 0.5 -->\n      <g transform=\"translate(223.574352 456.678437)scale(0.1 -0.1)\">\n       <use xlink:href=\"#DejaVuSans-48\"/>\n       <use x=\"63.623047\" xlink:href=\"#DejaVuSans-46\"/>\n       <use x=\"95.410156\" xlink:href=\"#DejaVuSans-53\"/>\n      </g>\n     </g>\n    </g>\n    <g id=\"xtick_6\">\n     <g id=\"line2d_11\">\n      <path clip-path=\"url(#p9867433115)\" d=\"M 273.869214 442.08 \nL 273.869214 7.2 \n\" style=\"fill:none;stroke:#b0b0b0;stroke-linecap:square;stroke-width:0.8;\"/>\n     </g>\n     <g id=\"line2d_12\">\n      <g>\n       <use style=\"stroke:#000000;stroke-width:0.8;\" x=\"273.869214\" xlink:href=\"#me41a3f672b\" y=\"442.08\"/>\n      </g>\n     </g>\n     <g id=\"text_6\">\n      <!-- 1.0 -->\n      <g transform=\"translate(265.917652 456.678437)scale(0.1 -0.1)\">\n       <use xlink:href=\"#DejaVuSans-49\"/>\n       <use x=\"63.623047\" xlink:href=\"#DejaVuSans-46\"/>\n       <use x=\"95.410156\" xlink:href=\"#DejaVuSans-48\"/>\n      </g>\n     </g>\n    </g>\n    <g id=\"xtick_7\">\n     <g id=\"line2d_13\">\n      <path clip-path=\"url(#p9867433115)\" d=\"M 316.212514 442.08 \nL 316.212514 7.2 \n\" style=\"fill:none;stroke:#b0b0b0;stroke-linecap:square;stroke-width:0.8;\"/>\n     </g>\n     <g id=\"line2d_14\">\n      <g>\n       <use style=\"stroke:#000000;stroke-width:0.8;\" x=\"316.212514\" xlink:href=\"#me41a3f672b\" y=\"442.08\"/>\n      </g>\n     </g>\n     <g id=\"text_7\">\n      <!-- 1.5 -->\n      <g transform=\"translate(308.260951 456.678437)scale(0.1 -0.1)\">\n       <use xlink:href=\"#DejaVuSans-49\"/>\n       <use x=\"63.623047\" xlink:href=\"#DejaVuSans-46\"/>\n       <use x=\"95.410156\" xlink:href=\"#DejaVuSans-53\"/>\n      </g>\n     </g>\n    </g>\n    <g id=\"xtick_8\">\n     <g id=\"line2d_15\">\n      <path clip-path=\"url(#p9867433115)\" d=\"M 358.555813 442.08 \nL 358.555813 7.2 \n\" style=\"fill:none;stroke:#b0b0b0;stroke-linecap:square;stroke-width:0.8;\"/>\n     </g>\n     <g id=\"line2d_16\">\n      <g>\n       <use style=\"stroke:#000000;stroke-width:0.8;\" x=\"358.555813\" xlink:href=\"#me41a3f672b\" y=\"442.08\"/>\n      </g>\n     </g>\n     <g id=\"text_8\">\n      <!-- 2.0 -->\n      <defs>\n       <path d=\"M 19.1875 8.296875 \nL 53.609375 8.296875 \nL 53.609375 0 \nL 7.328125 0 \nL 7.328125 8.296875 \nQ 12.9375 14.109375 22.625 23.890625 \nQ 32.328125 33.6875 34.8125 36.53125 \nQ 39.546875 41.84375 41.421875 45.53125 \nQ 43.3125 49.21875 43.3125 52.78125 \nQ 43.3125 58.59375 39.234375 62.25 \nQ 35.15625 65.921875 28.609375 65.921875 \nQ 23.96875 65.921875 18.8125 64.3125 \nQ 13.671875 62.703125 7.8125 59.421875 \nL 7.8125 69.390625 \nQ 13.765625 71.78125 18.9375 73 \nQ 24.125 74.21875 28.421875 74.21875 \nQ 39.75 74.21875 46.484375 68.546875 \nQ 53.21875 62.890625 53.21875 53.421875 \nQ 53.21875 48.921875 51.53125 44.890625 \nQ 49.859375 40.875 45.40625 35.40625 \nQ 44.1875 33.984375 37.640625 27.21875 \nQ 31.109375 20.453125 19.1875 8.296875 \nz\n\" id=\"DejaVuSans-50\"/>\n      </defs>\n      <g transform=\"translate(350.60425 456.678437)scale(0.1 -0.1)\">\n       <use xlink:href=\"#DejaVuSans-50\"/>\n       <use x=\"63.623047\" xlink:href=\"#DejaVuSans-46\"/>\n       <use x=\"95.410156\" xlink:href=\"#DejaVuSans-48\"/>\n      </g>\n     </g>\n    </g>\n    <g id=\"xtick_9\">\n     <g id=\"line2d_17\">\n      <path clip-path=\"url(#p9867433115)\" d=\"M 400.899112 442.08 \nL 400.899112 7.2 \n\" style=\"fill:none;stroke:#b0b0b0;stroke-linecap:square;stroke-width:0.8;\"/>\n     </g>\n     <g id=\"line2d_18\">\n      <g>\n       <use style=\"stroke:#000000;stroke-width:0.8;\" x=\"400.899112\" xlink:href=\"#me41a3f672b\" y=\"442.08\"/>\n      </g>\n     </g>\n     <g id=\"text_9\">\n      <!-- 2.5 -->\n      <g transform=\"translate(392.94755 456.678437)scale(0.1 -0.1)\">\n       <use xlink:href=\"#DejaVuSans-50\"/>\n       <use x=\"63.623047\" xlink:href=\"#DejaVuSans-46\"/>\n       <use x=\"95.410156\" xlink:href=\"#DejaVuSans-53\"/>\n      </g>\n     </g>\n    </g>\n    <g id=\"xtick_10\">\n     <g id=\"line2d_19\">\n      <path clip-path=\"url(#p9867433115)\" d=\"M 443.242412 442.08 \nL 443.242412 7.2 \n\" style=\"fill:none;stroke:#b0b0b0;stroke-linecap:square;stroke-width:0.8;\"/>\n     </g>\n     <g id=\"line2d_20\">\n      <g>\n       <use style=\"stroke:#000000;stroke-width:0.8;\" x=\"443.242412\" xlink:href=\"#me41a3f672b\" y=\"442.08\"/>\n      </g>\n     </g>\n     <g id=\"text_10\">\n      <!-- 3.0 -->\n      <defs>\n       <path d=\"M 40.578125 39.3125 \nQ 47.65625 37.796875 51.625 33 \nQ 55.609375 28.21875 55.609375 21.1875 \nQ 55.609375 10.40625 48.1875 4.484375 \nQ 40.765625 -1.421875 27.09375 -1.421875 \nQ 22.515625 -1.421875 17.65625 -0.515625 \nQ 12.796875 0.390625 7.625 2.203125 \nL 7.625 11.71875 \nQ 11.71875 9.328125 16.59375 8.109375 \nQ 21.484375 6.890625 26.8125 6.890625 \nQ 36.078125 6.890625 40.9375 10.546875 \nQ 45.796875 14.203125 45.796875 21.1875 \nQ 45.796875 27.640625 41.28125 31.265625 \nQ 36.765625 34.90625 28.71875 34.90625 \nL 20.21875 34.90625 \nL 20.21875 43.015625 \nL 29.109375 43.015625 \nQ 36.375 43.015625 40.234375 45.921875 \nQ 44.09375 48.828125 44.09375 54.296875 \nQ 44.09375 59.90625 40.109375 62.90625 \nQ 36.140625 65.921875 28.71875 65.921875 \nQ 24.65625 65.921875 20.015625 65.03125 \nQ 15.375 64.15625 9.8125 62.3125 \nL 9.8125 71.09375 \nQ 15.4375 72.65625 20.34375 73.4375 \nQ 25.25 74.21875 29.59375 74.21875 \nQ 40.828125 74.21875 47.359375 69.109375 \nQ 53.90625 64.015625 53.90625 55.328125 \nQ 53.90625 49.265625 50.4375 45.09375 \nQ 46.96875 40.921875 40.578125 39.3125 \nz\n\" id=\"DejaVuSans-51\"/>\n      </defs>\n      <g transform=\"translate(435.290849 456.678437)scale(0.1 -0.1)\">\n       <use xlink:href=\"#DejaVuSans-51\"/>\n       <use x=\"63.623047\" xlink:href=\"#DejaVuSans-46\"/>\n       <use x=\"95.410156\" xlink:href=\"#DejaVuSans-48\"/>\n      </g>\n     </g>\n    </g>\n    <g id=\"xtick_11\">\n     <g id=\"line2d_21\">\n      <path clip-path=\"url(#p9867433115)\" d=\"M 485.585711 442.08 \nL 485.585711 7.2 \n\" style=\"fill:none;stroke:#b0b0b0;stroke-linecap:square;stroke-width:0.8;\"/>\n     </g>\n     <g id=\"line2d_22\">\n      <g>\n       <use style=\"stroke:#000000;stroke-width:0.8;\" x=\"485.585711\" xlink:href=\"#me41a3f672b\" y=\"442.08\"/>\n      </g>\n     </g>\n     <g id=\"text_11\">\n      <!-- 3.5 -->\n      <g transform=\"translate(477.634149 456.678437)scale(0.1 -0.1)\">\n       <use xlink:href=\"#DejaVuSans-51\"/>\n       <use x=\"63.623047\" xlink:href=\"#DejaVuSans-46\"/>\n       <use x=\"95.410156\" xlink:href=\"#DejaVuSans-53\"/>\n      </g>\n     </g>\n    </g>\n    <g id=\"xtick_12\">\n     <g id=\"line2d_23\">\n      <path clip-path=\"url(#p9867433115)\" d=\"M 527.929011 442.08 \nL 527.929011 7.2 \n\" style=\"fill:none;stroke:#b0b0b0;stroke-linecap:square;stroke-width:0.8;\"/>\n     </g>\n     <g id=\"line2d_24\">\n      <g>\n       <use style=\"stroke:#000000;stroke-width:0.8;\" x=\"527.929011\" xlink:href=\"#me41a3f672b\" y=\"442.08\"/>\n      </g>\n     </g>\n     <g id=\"text_12\">\n      <!-- 4.0 -->\n      <defs>\n       <path d=\"M 37.796875 64.3125 \nL 12.890625 25.390625 \nL 37.796875 25.390625 \nz\nM 35.203125 72.90625 \nL 47.609375 72.90625 \nL 47.609375 25.390625 \nL 58.015625 25.390625 \nL 58.015625 17.1875 \nL 47.609375 17.1875 \nL 47.609375 0 \nL 37.796875 0 \nL 37.796875 17.1875 \nL 4.890625 17.1875 \nL 4.890625 26.703125 \nz\n\" id=\"DejaVuSans-52\"/>\n      </defs>\n      <g transform=\"translate(519.977448 456.678437)scale(0.1 -0.1)\">\n       <use xlink:href=\"#DejaVuSans-52\"/>\n       <use x=\"63.623047\" xlink:href=\"#DejaVuSans-46\"/>\n       <use x=\"95.410156\" xlink:href=\"#DejaVuSans-48\"/>\n      </g>\n     </g>\n    </g>\n    <g id=\"xtick_13\">\n     <g id=\"line2d_25\">\n      <path clip-path=\"url(#p9867433115)\" d=\"M 570.27231 442.08 \nL 570.27231 7.2 \n\" style=\"fill:none;stroke:#b0b0b0;stroke-linecap:square;stroke-width:0.8;\"/>\n     </g>\n     <g id=\"line2d_26\">\n      <g>\n       <use style=\"stroke:#000000;stroke-width:0.8;\" x=\"570.27231\" xlink:href=\"#me41a3f672b\" y=\"442.08\"/>\n      </g>\n     </g>\n     <g id=\"text_13\">\n      <!-- 4.5 -->\n      <g transform=\"translate(562.320748 456.678437)scale(0.1 -0.1)\">\n       <use xlink:href=\"#DejaVuSans-52\"/>\n       <use x=\"63.623047\" xlink:href=\"#DejaVuSans-46\"/>\n       <use x=\"95.410156\" xlink:href=\"#DejaVuSans-53\"/>\n      </g>\n     </g>\n    </g>\n   </g>\n   <g id=\"matplotlib.axis_2\">\n    <g id=\"ytick_1\">\n     <g id=\"line2d_27\">\n      <path clip-path=\"url(#p9867433115)\" d=\"M 38.482813 384.480949 \nL 596.482813 384.480949 \n\" style=\"fill:none;stroke:#b0b0b0;stroke-linecap:square;stroke-width:0.8;\"/>\n     </g>\n     <g id=\"line2d_28\">\n      <defs>\n       <path d=\"M 0 0 \nL -3.5 0 \n\" id=\"m42dfb0b175\" style=\"stroke:#000000;stroke-width:0.8;\"/>\n      </defs>\n      <g>\n       <use style=\"stroke:#000000;stroke-width:0.8;\" x=\"38.482813\" xlink:href=\"#m42dfb0b175\" y=\"384.480949\"/>\n      </g>\n     </g>\n     <g id=\"text_14\">\n      <!-- −2.0 -->\n      <g transform=\"translate(7.2 388.280168)scale(0.1 -0.1)\">\n       <use xlink:href=\"#DejaVuSans-8722\"/>\n       <use x=\"83.789062\" xlink:href=\"#DejaVuSans-50\"/>\n       <use x=\"147.412109\" xlink:href=\"#DejaVuSans-46\"/>\n       <use x=\"179.199219\" xlink:href=\"#DejaVuSans-48\"/>\n      </g>\n     </g>\n    </g>\n    <g id=\"ytick_2\">\n     <g id=\"line2d_29\">\n      <path clip-path=\"url(#p9867433115)\" d=\"M 38.482813 351.605741 \nL 596.482813 351.605741 \n\" style=\"fill:none;stroke:#b0b0b0;stroke-linecap:square;stroke-width:0.8;\"/>\n     </g>\n     <g id=\"line2d_30\">\n      <g>\n       <use style=\"stroke:#000000;stroke-width:0.8;\" x=\"38.482813\" xlink:href=\"#m42dfb0b175\" y=\"351.605741\"/>\n      </g>\n     </g>\n     <g id=\"text_15\">\n      <!-- −1.5 -->\n      <g transform=\"translate(7.2 355.404959)scale(0.1 -0.1)\">\n       <use xlink:href=\"#DejaVuSans-8722\"/>\n       <use x=\"83.789062\" xlink:href=\"#DejaVuSans-49\"/>\n       <use x=\"147.412109\" xlink:href=\"#DejaVuSans-46\"/>\n       <use x=\"179.199219\" xlink:href=\"#DejaVuSans-53\"/>\n      </g>\n     </g>\n    </g>\n    <g id=\"ytick_3\">\n     <g id=\"line2d_31\">\n      <path clip-path=\"url(#p9867433115)\" d=\"M 38.482813 318.730532 \nL 596.482813 318.730532 \n\" style=\"fill:none;stroke:#b0b0b0;stroke-linecap:square;stroke-width:0.8;\"/>\n     </g>\n     <g id=\"line2d_32\">\n      <g>\n       <use style=\"stroke:#000000;stroke-width:0.8;\" x=\"38.482813\" xlink:href=\"#m42dfb0b175\" y=\"318.730532\"/>\n      </g>\n     </g>\n     <g id=\"text_16\">\n      <!-- −1.0 -->\n      <g transform=\"translate(7.2 322.529751)scale(0.1 -0.1)\">\n       <use xlink:href=\"#DejaVuSans-8722\"/>\n       <use x=\"83.789062\" xlink:href=\"#DejaVuSans-49\"/>\n       <use x=\"147.412109\" xlink:href=\"#DejaVuSans-46\"/>\n       <use x=\"179.199219\" xlink:href=\"#DejaVuSans-48\"/>\n      </g>\n     </g>\n    </g>\n    <g id=\"ytick_4\">\n     <g id=\"line2d_33\">\n      <path clip-path=\"url(#p9867433115)\" d=\"M 38.482813 285.855324 \nL 596.482813 285.855324 \n\" style=\"fill:none;stroke:#b0b0b0;stroke-linecap:square;stroke-width:0.8;\"/>\n     </g>\n     <g id=\"line2d_34\">\n      <g>\n       <use style=\"stroke:#000000;stroke-width:0.8;\" x=\"38.482813\" xlink:href=\"#m42dfb0b175\" y=\"285.855324\"/>\n      </g>\n     </g>\n     <g id=\"text_17\">\n      <!-- −0.5 -->\n      <g transform=\"translate(7.2 289.654543)scale(0.1 -0.1)\">\n       <use xlink:href=\"#DejaVuSans-8722\"/>\n       <use x=\"83.789062\" xlink:href=\"#DejaVuSans-48\"/>\n       <use x=\"147.412109\" xlink:href=\"#DejaVuSans-46\"/>\n       <use x=\"179.199219\" xlink:href=\"#DejaVuSans-53\"/>\n      </g>\n     </g>\n    </g>\n    <g id=\"ytick_5\">\n     <g id=\"line2d_35\">\n      <path clip-path=\"url(#p9867433115)\" d=\"M 38.482813 252.980116 \nL 596.482813 252.980116 \n\" style=\"fill:none;stroke:#b0b0b0;stroke-linecap:square;stroke-width:0.8;\"/>\n     </g>\n     <g id=\"line2d_36\">\n      <g>\n       <use style=\"stroke:#000000;stroke-width:0.8;\" x=\"38.482813\" xlink:href=\"#m42dfb0b175\" y=\"252.980116\"/>\n      </g>\n     </g>\n     <g id=\"text_18\">\n      <!-- 0.0 -->\n      <g transform=\"translate(15.579688 256.779334)scale(0.1 -0.1)\">\n       <use xlink:href=\"#DejaVuSans-48\"/>\n       <use x=\"63.623047\" xlink:href=\"#DejaVuSans-46\"/>\n       <use x=\"95.410156\" xlink:href=\"#DejaVuSans-48\"/>\n      </g>\n     </g>\n    </g>\n    <g id=\"ytick_6\">\n     <g id=\"line2d_37\">\n      <path clip-path=\"url(#p9867433115)\" d=\"M 38.482813 220.104907 \nL 596.482813 220.104907 \n\" style=\"fill:none;stroke:#b0b0b0;stroke-linecap:square;stroke-width:0.8;\"/>\n     </g>\n     <g id=\"line2d_38\">\n      <g>\n       <use style=\"stroke:#000000;stroke-width:0.8;\" x=\"38.482813\" xlink:href=\"#m42dfb0b175\" y=\"220.104907\"/>\n      </g>\n     </g>\n     <g id=\"text_19\">\n      <!-- 0.5 -->\n      <g transform=\"translate(15.579688 223.904126)scale(0.1 -0.1)\">\n       <use xlink:href=\"#DejaVuSans-48\"/>\n       <use x=\"63.623047\" xlink:href=\"#DejaVuSans-46\"/>\n       <use x=\"95.410156\" xlink:href=\"#DejaVuSans-53\"/>\n      </g>\n     </g>\n    </g>\n    <g id=\"ytick_7\">\n     <g id=\"line2d_39\">\n      <path clip-path=\"url(#p9867433115)\" d=\"M 38.482813 187.229699 \nL 596.482813 187.229699 \n\" style=\"fill:none;stroke:#b0b0b0;stroke-linecap:square;stroke-width:0.8;\"/>\n     </g>\n     <g id=\"line2d_40\">\n      <g>\n       <use style=\"stroke:#000000;stroke-width:0.8;\" x=\"38.482813\" xlink:href=\"#m42dfb0b175\" y=\"187.229699\"/>\n      </g>\n     </g>\n     <g id=\"text_20\">\n      <!-- 1.0 -->\n      <g transform=\"translate(15.579688 191.028918)scale(0.1 -0.1)\">\n       <use xlink:href=\"#DejaVuSans-49\"/>\n       <use x=\"63.623047\" xlink:href=\"#DejaVuSans-46\"/>\n       <use x=\"95.410156\" xlink:href=\"#DejaVuSans-48\"/>\n      </g>\n     </g>\n    </g>\n    <g id=\"ytick_8\">\n     <g id=\"line2d_41\">\n      <path clip-path=\"url(#p9867433115)\" d=\"M 38.482813 154.35449 \nL 596.482813 154.35449 \n\" style=\"fill:none;stroke:#b0b0b0;stroke-linecap:square;stroke-width:0.8;\"/>\n     </g>\n     <g id=\"line2d_42\">\n      <g>\n       <use style=\"stroke:#000000;stroke-width:0.8;\" x=\"38.482813\" xlink:href=\"#m42dfb0b175\" y=\"154.35449\"/>\n      </g>\n     </g>\n     <g id=\"text_21\">\n      <!-- 1.5 -->\n      <g transform=\"translate(15.579688 158.153709)scale(0.1 -0.1)\">\n       <use xlink:href=\"#DejaVuSans-49\"/>\n       <use x=\"63.623047\" xlink:href=\"#DejaVuSans-46\"/>\n       <use x=\"95.410156\" xlink:href=\"#DejaVuSans-53\"/>\n      </g>\n     </g>\n    </g>\n    <g id=\"ytick_9\">\n     <g id=\"line2d_43\">\n      <path clip-path=\"url(#p9867433115)\" d=\"M 38.482813 121.479282 \nL 596.482813 121.479282 \n\" style=\"fill:none;stroke:#b0b0b0;stroke-linecap:square;stroke-width:0.8;\"/>\n     </g>\n     <g id=\"line2d_44\">\n      <g>\n       <use style=\"stroke:#000000;stroke-width:0.8;\" x=\"38.482813\" xlink:href=\"#m42dfb0b175\" y=\"121.479282\"/>\n      </g>\n     </g>\n     <g id=\"text_22\">\n      <!-- 2.0 -->\n      <g transform=\"translate(15.579688 125.278501)scale(0.1 -0.1)\">\n       <use xlink:href=\"#DejaVuSans-50\"/>\n       <use x=\"63.623047\" xlink:href=\"#DejaVuSans-46\"/>\n       <use x=\"95.410156\" xlink:href=\"#DejaVuSans-48\"/>\n      </g>\n     </g>\n    </g>\n    <g id=\"ytick_10\">\n     <g id=\"line2d_45\">\n      <path clip-path=\"url(#p9867433115)\" d=\"M 38.482813 88.604074 \nL 596.482813 88.604074 \n\" style=\"fill:none;stroke:#b0b0b0;stroke-linecap:square;stroke-width:0.8;\"/>\n     </g>\n     <g id=\"line2d_46\">\n      <g>\n       <use style=\"stroke:#000000;stroke-width:0.8;\" x=\"38.482813\" xlink:href=\"#m42dfb0b175\" y=\"88.604074\"/>\n      </g>\n     </g>\n     <g id=\"text_23\">\n      <!-- 2.5 -->\n      <g transform=\"translate(15.579688 92.403292)scale(0.1 -0.1)\">\n       <use xlink:href=\"#DejaVuSans-50\"/>\n       <use x=\"63.623047\" xlink:href=\"#DejaVuSans-46\"/>\n       <use x=\"95.410156\" xlink:href=\"#DejaVuSans-53\"/>\n      </g>\n     </g>\n    </g>\n    <g id=\"ytick_11\">\n     <g id=\"line2d_47\">\n      <path clip-path=\"url(#p9867433115)\" d=\"M 38.482813 55.728865 \nL 596.482813 55.728865 \n\" style=\"fill:none;stroke:#b0b0b0;stroke-linecap:square;stroke-width:0.8;\"/>\n     </g>\n     <g id=\"line2d_48\">\n      <g>\n       <use style=\"stroke:#000000;stroke-width:0.8;\" x=\"38.482813\" xlink:href=\"#m42dfb0b175\" y=\"55.728865\"/>\n      </g>\n     </g>\n     <g id=\"text_24\">\n      <!-- 3.0 -->\n      <g transform=\"translate(15.579688 59.528084)scale(0.1 -0.1)\">\n       <use xlink:href=\"#DejaVuSans-51\"/>\n       <use x=\"63.623047\" xlink:href=\"#DejaVuSans-46\"/>\n       <use x=\"95.410156\" xlink:href=\"#DejaVuSans-48\"/>\n      </g>\n     </g>\n    </g>\n    <g id=\"ytick_12\">\n     <g id=\"line2d_49\">\n      <path clip-path=\"url(#p9867433115)\" d=\"M 38.482813 22.853657 \nL 596.482813 22.853657 \n\" style=\"fill:none;stroke:#b0b0b0;stroke-linecap:square;stroke-width:0.8;\"/>\n     </g>\n     <g id=\"line2d_50\">\n      <g>\n       <use style=\"stroke:#000000;stroke-width:0.8;\" x=\"38.482813\" xlink:href=\"#m42dfb0b175\" y=\"22.853657\"/>\n      </g>\n     </g>\n     <g id=\"text_25\">\n      <!-- 3.5 -->\n      <g transform=\"translate(15.579688 26.652876)scale(0.1 -0.1)\">\n       <use xlink:href=\"#DejaVuSans-51\"/>\n       <use x=\"63.623047\" xlink:href=\"#DejaVuSans-46\"/>\n       <use x=\"95.410156\" xlink:href=\"#DejaVuSans-53\"/>\n      </g>\n     </g>\n    </g>\n   </g>\n   <g id=\"line2d_51\">\n    <path clip-path=\"url(#p9867433115)\" d=\"M 252.697564 26.967273 \nL 255.722086 35.035547 \nL 258.746607 43.103822 \nL 261.771129 51.172096 \nL 264.79565 59.240371 \nL 267.820171 67.308646 \nL 270.844693 75.37692 \nL 273.869214 83.445195 \nL 276.893735 91.513469 \nL 279.918257 99.581744 \nL 282.942778 107.650019 \nL 285.9673 115.718293 \nL 288.991821 123.786568 \nL 292.016342 131.854842 \nL 295.040864 139.923117 \nL 298.065385 147.991391 \nL 301.089907 156.059666 \nL 304.114428 164.127941 \nL 307.138949 172.196215 \nL 310.163471 180.26449 \nL 313.187992 188.332764 \nL 316.212514 196.401039 \nL 319.237035 204.469314 \nL 322.261556 212.537588 \nL 325.286078 220.605863 \nL 328.310599 228.674137 \nL 331.33512 236.742412 \nL 334.359642 244.810686 \nL 337.384163 252.878961 \nL 340.408685 260.947236 \nL 343.433206 269.01551 \nL 346.457727 277.083785 \nL 349.482249 285.152059 \nL 352.50677 293.220334 \nL 355.531292 301.288609 \nL 358.555813 309.356883 \nL 361.580334 317.425158 \nL 364.604856 325.493432 \nL 367.629377 333.561707 \nL 370.653899 341.629981 \nL 373.67842 349.698256 \nL 376.702941 357.766531 \nL 379.727463 365.834805 \nL 382.751984 373.90308 \nL 385.776505 381.971354 \nL 388.801027 390.039629 \nL 391.825548 398.107904 \nL 394.85007 406.176178 \nL 397.874591 414.244453 \nL 400.899112 422.312727 \n\" style=\"fill:none;stroke:#ff0000;stroke-linecap:square;stroke-width:1.5;\"/>\n   </g>\n  </g>\n </g>\n <defs>\n  <clipPath id=\"p9867433115\">\n   <rect height=\"434.88\" width=\"558\" x=\"38.482813\" y=\"7.2\"/>\n  </clipPath>\n </defs>\n</svg>\n",
      "image/png": "[encoded data removed]"
     },
     "metadata": {
      "needs_background": "light"
     }
    }
   ],
   "source": [
    "# answer 5\n",
    "x1_range = np.arange(-2, 5, 0.5)\n",
    "x2_range = np.arange(-2, 4., 0.5)\n",
    "\n",
    "fig, ax = plt.subplots(figsize=(10, 8))\n",
    "ax = fig.gca()\n",
    "ax.set_xticks(x1_range)\n",
    "ax.set_yticks(x2_range)\n",
    "ax.grid()\n",
    "ax.scatter(ds['x1'], ds['x2'], c=ds['y'])\n",
    "\n",
    "support_vec = ds\n",
    "#========================#\n",
    "# STRART YOUR CODE HERE  #\n",
    "#========================#\n",
    "support_vec =  ds.loc[(ds['x1'] == 0.91) | (ds['x1'] == 0.41) | (ds['x1'] == 2.05)]\n",
    "a = -1.34/0.39\n",
    "xx = np.linspace(0.75, 2.5)\n",
    "yy = a * xx - 2.3456 / -0.39\n",
    "plt.plot(xx, yy, 'r-')\n",
    "#========================#\n",
    "#   END YOUR CODE HERE   #\n",
    "#========================# \n",
    "ax.scatter(support_vec['x1'], support_vec['x2'], marker='o', facecolor='none', s=200, color='red')\n",
    "sns.despine(ax=ax, left=True, bottom=True, offset=0)\n",
    "plt.show()"
   ]
  },
  {
   "cell_type": "markdown",
   "metadata": {},
   "source": [
    "## 2.2 Coding SVM"
   ]
  },
  {
   "cell_type": "markdown",
   "metadata": {},
   "source": [
    "In this section, we are going to use SVM for classifying the `y` value of 4-dimensional data points. The dataset has been preprocessed and splited into `svm-train.csv` and `svm-test.csv` for you.\n",
    "\n"
   ]
  },
  {
   "cell_type": "markdown",
   "metadata": {},
   "source": [
    "For this question we are going to use the `cvxopt` package to help us solve the optimization problem of SVM. You will see it in the .py files, but you don't need to any coding with it. For this question, you only need to implement the right kernel function, and your kernel matrix `K` in `svm.py` line 135 will be pluged in the cvxopt optimization problem solver.\n",
    "\n",
    "\n",
    "For more information about `cvxopt` please refer to http://cvxopt.org/"
   ]
  },
  {
   "cell_type": "code",
   "execution_count": 3,
   "metadata": {
    "tags": []
   },
   "outputs": [
    {
     "output_type": "stream",
     "name": "stdout",
     "text": "Training data shape:  (1098, 4) (1098,)\nTesting data shape: (274, 4) (274,)\n"
    },
    {
     "output_type": "execute_result",
     "data": {
      "text/plain": "array([[  3.6216 ,   8.6661 ,  -2.8073 ,  -0.44699],\n       [  4.5459 ,   8.1674 ,  -2.4586 ,  -1.4621 ],\n       [  3.866  ,  -2.6383 ,   1.9242 ,   0.10645],\n       ...,\n       [ -4.4775 , -13.0303 ,  17.0834 ,  -3.0345 ],\n       [ -4.1958 ,  -8.1819 ,  12.1291 ,  -1.6017 ],\n       [ -3.38   ,  -0.7077 ,   2.5325 ,   0.71808]])"
     },
     "metadata": {},
     "execution_count": 3
    }
   ],
   "source": [
    "from hw2code.svm import SVM\n",
    "svm = SVM()\n",
    "svm.load_data('./data/svm-train.csv', './data/svm-test.csv')\n",
    "# As a sanity check, we print out the size of the training data (1098, 4) and (1098,) and testing data (274, 4) and (274,)\n",
    "print('Training data shape: ', svm.train_x.shape, svm.train_y.shape)\n",
    "print('Testing data shape:', svm.test_x.shape, svm.test_y.shape)\n",
    "svm.train_x"
   ]
  },
  {
   "cell_type": "markdown",
   "metadata": {},
   "source": [
    "### 2.2.1 Linear kernel"
   ]
  },
  {
   "cell_type": "markdown",
   "metadata": {},
   "source": [
    "Complete the `SVM.predict` and `linear_kernel` function in `svm.py`. \n",
    "Train a hard margin SVM and a soft margin SVM with linear kernel. Print the test accuracy for both cases."
   ]
  },
  {
   "cell_type": "code",
   "execution_count": 19,
   "metadata": {
    "scrolled": true,
    "tags": []
   },
   "outputs": [
    {
     "output_type": "stream",
     "name": "stdout",
     "text": "1098 support vectors out of 1098 points\n30 support vectors out of 1098 points\nHard margin test accuracy is:  0.5547445255474452\nSoft margin test accuracy is:  0.9890510948905109\n"
    }
   ],
   "source": [
    "svm_hard = SVM()\n",
    "svm_hard.load_data('./data/svm-train.csv', './data/svm-test.csv')\n",
    "hard_test_acc = 0\n",
    "#========================#\n",
    "# STRART YOUR CODE HERE  #\n",
    "#========================#\n",
    "svm_hard.train('linear_kernel')\n",
    "hard_pred = svm_hard.predict(svm_hard.train_x)\n",
    "hard_test_acc = svm_hard.test()\n",
    "#========================#\n",
    "#   END YOUR CODE HERE   #\n",
    "#========================# \n",
    "\n",
    "svm_soft = SVM()\n",
    "svm_soft.load_data('./data/svm-train.csv', './data/svm-test.csv')\n",
    "soft_test_acc = 0\n",
    "#========================#\n",
    "# STRART YOUR CODE HERE  #\n",
    "#========================#\n",
    "svm_soft.train('linear_kernel', 100)\n",
    "soft_pred = svm_soft.predict(svm_soft.train_x)\n",
    "soft_test_acc = svm_soft.test()\n",
    "#========================#\n",
    "#   END YOUR CODE HERE   #\n",
    "#========================# \n",
    "print('Hard margin test accuracy is: ', hard_test_acc)\n",
    "print('Soft margin test accuracy is: ', soft_test_acc)"
   ]
  },
  {
   "cell_type": "markdown",
   "metadata": {},
   "source": [
    "**Questions** \n"
   ]
  },
  {
   "cell_type": "markdown",
   "metadata": {},
   "source": [
    " Are these two results similar? Why or why not?"
   ]
  },
  {
   "cell_type": "markdown",
   "metadata": {},
   "source": [
    "**Your Answer**"
   ]
  },
  {
   "cell_type": "markdown",
   "metadata": {},
   "source": [
    "<span style=\"color:blue\"> No, they are not similar! Hard margin has lower accuracy as there are no missclassification. Soft margin has a better accuracy as we allow missclassification </span>"
   ]
  },
  {
   "cell_type": "markdown",
   "metadata": {},
   "source": [
    "### 2.2.2 Polynomial kernel"
   ]
  },
  {
   "cell_type": "markdown",
   "metadata": {},
   "source": [
    "Complete the `polynomial_kernel` function in `svm.py`. \n",
    "Train a soft margin SVM with degree 3 polynomial kernel and parameter `C = 100` for the regularization term. Print the test accuracy. "
   ]
  },
  {
   "cell_type": "code",
   "execution_count": 20,
   "metadata": {
    "scrolled": true,
    "tags": []
   },
   "outputs": [
    {
     "output_type": "stream",
     "name": "stdout",
     "text": "19 support vectors out of 1098 points\nTest accuracy is:  0.927007299270073\n"
    }
   ],
   "source": [
    "svm = SVM()\n",
    "svm.load_data('./data/svm-train.csv', './data/svm-test.csv')\n",
    "test_acc = 0\n",
    "#========================#\n",
    "# STRART YOUR CODE HERE  #\n",
    "#========================#\n",
    "svm.train('polynomial_kernel', 100)\n",
    "pred = svm.predict(svm.train_x)\n",
    "test_acc = svm.test()\n",
    "#========================#\n",
    "#   END YOUR CODE HERE   #\n",
    "#========================# \n",
    "print('Test accuracy is: ', test_acc)"
   ]
  },
  {
   "cell_type": "markdown",
   "metadata": {},
   "source": [
    "**Questions** \n"
   ]
  },
  {
   "cell_type": "markdown",
   "metadata": {},
   "source": [
    " Is the result better than linear kernel? Why or why not?"
   ]
  },
  {
   "cell_type": "markdown",
   "metadata": {},
   "source": [
    "**Your Answer**"
   ]
  },
  {
   "cell_type": "markdown",
   "metadata": {},
   "source": [
    "<span style=\"color:blue\"> No, Polynomial Kernel has a lower accuracy and I think that's because of our dataset as it's not that noisy and classifies better with linear_kernel</span>"
   ]
  },
  {
   "cell_type": "markdown",
   "metadata": {},
   "source": [
    "### 2.2.3 Gaussian kernel"
   ]
  },
  {
   "cell_type": "markdown",
   "metadata": {},
   "source": [
    "Complete the `gaussian_kernel` function using the `gaussian_kernel_point` in `svm.py`. \n",
    "Train a soft margin SVM with Gaussian kernel and parameter `C = 100` for the regularization term. Print the test accuracy. "
   ]
  },
  {
   "cell_type": "code",
   "execution_count": 21,
   "metadata": {
    "scrolled": true,
    "tags": []
   },
   "outputs": [
    {
     "output_type": "stream",
     "name": "stdout",
     "text": "35 support vectors out of 1098 points\nTest accuracy is:  1.0\n"
    }
   ],
   "source": [
    "svm = SVM()\n",
    "svm.load_data('./data/svm-train.csv', './data/svm-test.csv')\n",
    "test_acc = 0\n",
    "#========================#\n",
    "# STRART YOUR CODE HERE  #\n",
    "#========================#\n",
    "svm.train('gaussian_kernel', 100)\n",
    "pred = svm.predict(svm.train_x)\n",
    "test_acc = svm.test()\n",
    "#========================#\n",
    "#   END YOUR CODE HERE   #\n",
    "#========================# \n",
    "print('Test accuracy is: ', test_acc)"
   ]
  },
  {
   "cell_type": "markdown",
   "metadata": {},
   "source": [
    "**Questions** \n"
   ]
  },
  {
   "cell_type": "markdown",
   "metadata": {},
   "source": [
    " 1. Is the result better than linear kernel and polynomial kernel? Why or why not?\n",
    " 2. Which one of these four models do you like the most and why?\n",
    " 3. (Bonus question, optional) Can you come up with a vectorized implementation of `gaussian_kernel` without calling `gaussian_kernel_point`? Fill that in svm.py."
   ]
  },
  {
   "cell_type": "markdown",
   "metadata": {},
   "source": [
    "**Your Answer**"
   ]
  },
  {
   "cell_type": "markdown",
   "metadata": {},
   "source": [
    "<span style=\"color:blue\"> Please write down your answers and/or observations here </span>"
   ]
  },
  {
   "cell_type": "markdown",
   "metadata": {},
   "source": [
    "answer 1: Yes, it's better as the accuracy is 1. and that is because it becomes easier to overfit the data; however, the computation is slow"
   ]
  },
  {
   "cell_type": "markdown",
   "metadata": {},
   "source": [
    "answer 2: For this dataset, I'd choose Linear Kernel as it has a really good accuracy and it's faster than gaussian_kernel"
   ]
  },
  {
   "cell_type": "markdown",
   "metadata": {},
   "source": [
    "# End of Homework 2 :)\n",
    "After you've finished the homework, please print out the entire `ipynb` notebook and two `py` files into one PDF file. Make sure you include the output of code cells and answers for questions. Prepare submit it to GradeScope. Also this time remember assign the pages to the questions on GradeScope"
   ]
  }
 ],
 "metadata": {
  "kernelspec": {
   "display_name": "Python 3",
   "language": "python",
   "name": "python3"
  },
  "language_info": {
   "codemirror_mode": {
    "name": "ipython",
    "version": 3
   },
   "file_extension": ".py",
   "mimetype": "text/x-python",
   "name": "python",
   "nbconvert_exporter": "python",
   "pygments_lexer": "ipython3",
   "version": "3.8.3-final"
  }
 },
 "nbformat": 4,
 "nbformat_minor": 4
}