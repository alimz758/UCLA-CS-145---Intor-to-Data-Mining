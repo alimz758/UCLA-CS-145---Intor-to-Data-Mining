{
 "cells": [
  {
   "cell_type": "markdown",
   "metadata": {},
   "source": [
    "# CS145 Howework 3, Part 2: Neural Networks\n",
    "\n",
    "<span style=\"color:red\"> **Important Note:** </span>\n",
    "HW3 is due on **11:59 PM PT, Nov 9 (Monday, Week 6)**. Please submit through GradeScope. \n",
    "\n",
    "Note that, Howework #3 has two jupyter notebooks to complete (Part 1: kNN and Part 2: Neural Network).  \n",
    "\n",
    "----\n",
    "\n",
    "## Print Out Your Name and UID\n",
    "\n",
    "<span style=\"color:blue\"> **Name: Ali Mirabzadeh, UID: 305179067** </span>\n",
    "\n",
    "----\n",
    "\n",
    "## Before You Start\n",
    "\n",
    "You need to first create HW3 conda environment by the given `cs145hw3.yml` file, which provides the name and necessary packages for this tasks. If you have `conda` properly installed, you may create, activate or deactivate by the following commands:\n",
    "\n",
    "```\n",
    "conda env create -f cs145hw3.yml\n",
    "conda activate hw3\n",
    "conda deactivate\n",
    "```\n",
    "OR \n",
    "\n",
    "```\n",
    "conda env create --name NAMEOFYOURCHOICE -f cs145hw3.yml \n",
    "conda activate NAMEOFYOURCHOICE\n",
    "conda deactivate\n",
    "```\n",
    "To view the list of your environments, use the following command:\n",
    "```\n",
    "conda env list\n",
    "```\n",
    "\n",
    "More useful information about managing environments can be found [here](https://docs.conda.io/projects/conda/en/latest/user-guide/tasks/manage-environments.html).\n",
    "\n",
    "You may also quickly review the usage of basic Python and Numpy package, if needed in coding for matrix operations.\n",
    "\n",
    "In this notebook, you must not delete any code cells in this notebook. If you change any code outside the blocks (such as hyperparameters) that you are allowed to edit (between `STRART/END YOUR CODE HERE`), you need to highlight these changes. You may add some additional cells to help explain your results and observations. "
   ]
  },
  {
   "cell_type": "markdown",
   "metadata": {},
   "source": [
    "## Section 1: Backprop in a neural network \n",
    "\n",
    "<span style=\"color:red\"> Note: Section 1 is \"question-answer\" style problem. You do not need to code anything and you are required to calculate by hand (with a scientific calculator), which helps you understand the back propagation in neural networks. </span>"
   ]
  },
  {
   "cell_type": "markdown",
   "metadata": {},
   "source": [
    "In this question, let's consider a simple two-layer neural network and manually do the forward and backward pass. For simplicity, we assume our input data is two dimension. Then the model architecture looks like the following. Notice that in the example we saw in class, the bias term `b` was not explicit listed in the architecture diagram. Here we include the term `b` explicitly for each layer in the diagram. Recall the formula for computing $\\mathbf{x^{(l)}}$ in the $l$-th layer from $\\mathbf{x^{(l-1)}}$ in the $(l-1)$-th layer is $\\mathbf{x^{(l)}} = \\mathbf{f^{(l)}(W^{(l)} x^{(l-1)} + b^{(l)})}$. The activation function $\\mathbf{f^{(l)}}$ we choose is the `sigmoid` function for all layers, i.e. $\\mathbf{f^{(l)}}(z) = \\frac{1}{1+\\exp(-z)}$. The final loss function is $\\frac{1}{2}$ of the `mean squared error` loss, i.e. $l\\mathbf{(y, \\hat y)} = \\frac{1}{2} ||\\mathbf{y - \\hat y}||^2$. <img src=\"nn.png\"  width=\"350\"/>"
   ]
  },
  {
   "cell_type": "markdown",
   "metadata": {},
   "source": [
    "We initialize our weights as $$\\mathbf{W^{(1)}} = \\begin{bmatrix}\n",
    "0.15 & 0.2 \\\\\n",
    "0.25 & 0.3 \n",
    "\\end{bmatrix}, \\quad \\mathbf{W^{(2)}} = [0.4, 0.45], \\quad \\mathbf{b^{(1)}} = [0.35, 0.35], \\quad \\mathbf{b^{(2)}} = 0.6$$"
   ]
  },
  {
   "cell_type": "markdown",
   "metadata": {},
   "source": [
    "### Forward pass\n",
    "\n",
    "**Questions**\n",
    "\n",
    "1. When the input $\\mathbf{x^{(0)}} = [0.05, 0.1]$, what will be the value of $\\mathbf{x^{(1)}}$ in the hidden layer? (Show your work).\n",
    "2. Based on the value $\\mathbf{x^{(1)}}$ you computed, what will be the value of $\\mathbf{x^{(2)}}$ in the output layer? (Show your work).\n",
    "3. When the target value of this input is $y = 0.01$, based on the value $\\mathbf{x^{(2)}}$ you computed, what will be the loss? (Show your work)."
   ]
  },
  {
   "cell_type": "markdown",
   "metadata": {},
   "source": [
    "**Answers:**\n",
    "\n",
    "<span style=\"color:blue\"> Please write down your answer here! </span>"
   ]
  },
  {
   "cell_type": "markdown",
   "metadata": {},
   "source": [
    "### Backward pass\n",
    "\n",
    "With the loss computed below, we are ready for a backward pass to update the weights in the neural network. Kindly remind that the gradients of a variable should have the same shape with the variable.\n",
    "\n",
    "**Questions**\n",
    "\n",
    "1. Consider the loss $l$ of the same input $\\mathbf{x^{(0)}} = [0.05, 0.1]$, what will be the update of $\\mathbf{W^{(2)}}$ and $\\mathbf{b^{(2)}}$ when we backprop, i.e. $\\frac{\\partial l}{\\partial \\mathbf{W^{(2)}}}$, $\\frac{\\partial l}{\\partial \\mathbf{b^{(2)}}}$  (Show your work in detailed calculation steps. Answers without justification will not be credited.).\n",
    "2. Based on the result you computed in part 1, when we keep backproping, what will be the update of $\\mathbf{W^{(1)}}$ and $\\mathbf{b^{(1)}}$, i.e. $\\frac{\\partial l}{\\partial \\mathbf{W^{(1)}}}$, $\\frac{\\partial l}{\\partial \\mathbf{b^{(1)}}}$  (Show your work in details calculation steps. Answers without justification will not be credited.)."
   ]
  },
  {
   "cell_type": "markdown",
   "metadata": {},
   "source": [
    "**Answers:**\n",
    "\n",
    "<span style=\"color:blue\"> Please write down your answer here! </span>"
   ]
  },
  {
   "cell_type": "markdown",
   "metadata": {},
   "source": [
    "## Section 2: Coding a two-layer neural network"
   ]
  },
  {
   "cell_type": "markdown",
   "metadata": {},
   "source": [
    "Import libraries and define relative error function, which is used to check results later. "
   ]
  },
  {
   "cell_type": "code",
   "execution_count": 1,
   "metadata": {},
   "outputs": [],
   "source": [
    "import random\n",
    "import numpy as np\n",
    "from data.data_utils import load_CIFAR10\n",
    "import matplotlib.pyplot as plt\n",
    "\n",
    "%matplotlib inline\n",
    "plt.rcParams['figure.figsize'] = (10.0, 8.0)\n",
    "%load_ext autoreload\n",
    "%autoreload 2\n",
    "\n",
    "def rel_error(x, y):\n",
    "    \"\"\" returns relative error \"\"\"\n",
    "    return np.max(np.abs(x - y) / (np.maximum(1e-8, np.abs(x) + np.abs(y))))"
   ]
  },
  {
   "cell_type": "markdown",
   "metadata": {},
   "source": [
    "## Toy example\n",
    "\n",
    "Before loading CIFAR-10, there will be a toy example to test your implementation of the forward and backward pass."
   ]
  },
  {
   "cell_type": "code",
   "execution_count": 2,
   "metadata": {},
   "outputs": [],
   "source": [
    "from hw3code.neural_net import TwoLayerNet"
   ]
  },
  {
   "cell_type": "code",
   "execution_count": 3,
   "metadata": {},
   "outputs": [],
   "source": [
    "# Create a small net and some toy data to check your implementations.\n",
    "# Note that we set the random seed for repeatable experiments.\n",
    "\n",
    "input_size = 4\n",
    "hidden_size = 10\n",
    "num_classes = 3\n",
    "num_inputs = 5\n",
    "\n",
    "def init_toy_model():\n",
    "    np.random.seed(0)\n",
    "    return TwoLayerNet(input_size, hidden_size, num_classes, std=1e-1)\n",
    "\n",
    "def init_toy_data():\n",
    "    np.random.seed(1)\n",
    "    X = 10 * np.random.randn(num_inputs, input_size)\n",
    "    y = np.array([0, 1, 2, 2, 1])\n",
    "    return X, y\n",
    "\n",
    "net = init_toy_model()\n",
    "X, y = init_toy_data()"
   ]
  },
  {
   "cell_type": "markdown",
   "metadata": {},
   "source": [
    "### Compute forward pass scores"
   ]
  },
  {
   "cell_type": "code",
   "execution_count": 4,
   "metadata": {},
   "outputs": [
    {
     "name": "stdout",
     "output_type": "stream",
     "text": [
      "Your scores:\n",
      "[[-1.07260209  0.05083871 -0.87253915]\n",
      " [-2.02778743 -0.10832494 -1.52641362]\n",
      " [-0.74225908  0.15259725 -0.39578548]\n",
      " [-0.38172726  0.10835902 -0.17328274]\n",
      " [-0.64417314 -0.18886813 -0.41106892]]\n",
      "\n",
      "correct scores:\n",
      "[[-1.07260209  0.05083871 -0.87253915]\n",
      " [-2.02778743 -0.10832494 -1.52641362]\n",
      " [-0.74225908  0.15259725 -0.39578548]\n",
      " [-0.38172726  0.10835902 -0.17328274]\n",
      " [-0.64417314 -0.18886813 -0.41106892]]\n",
      "\n",
      "Difference between your scores and correct scores:\n",
      "3.381231204052648e-08\n"
     ]
    }
   ],
   "source": [
    "## Implement the forward pass of the neural network.\n",
    "\n",
    "# Note, there is a statement if y is None: return scores, which is why \n",
    "# the following call will calculate the scores.\n",
    "scores = net.loss(X)\n",
    "print('Your scores:')\n",
    "print(scores)\n",
    "print()\n",
    "print('correct scores:')\n",
    "correct_scores = np.asarray([\n",
    "    [-1.07260209,  0.05083871, -0.87253915],\n",
    "    [-2.02778743, -0.10832494, -1.52641362],\n",
    "    [-0.74225908,  0.15259725, -0.39578548],\n",
    "    [-0.38172726,  0.10835902, -0.17328274],\n",
    "    [-0.64417314, -0.18886813, -0.41106892]])\n",
    "print(correct_scores)\n",
    "print()\n",
    "\n",
    "# The difference should be very small. We get < 1e-7\n",
    "print('Difference between your scores and correct scores:')\n",
    "print(np.sum(np.abs(scores - correct_scores)))"
   ]
  },
  {
   "cell_type": "markdown",
   "metadata": {},
   "source": [
    "### Forward pass loss\n",
    "\n",
    "The total loss includes data loss (MSE) and regularization loss, which is,\n",
    "\n",
    "$$L = L_{data}+L_{reg} = \\frac{1}{2N}\\sum_{i=1}^{N}\\left(\\boldsymbol{y}_{\\text{pred}}-\\boldsymbol{y}_{\\text{target}}\\right)^2 + \\frac{\\lambda}{2} \\left(||W_1||^2 + ||W_2||^2 \\right)$$\n",
    "\n",
    "More specifically in multi-class situation, if the output of neural nets from one sample is $y_{\\text{pred}}=(0.1,0.1,0.8)$ and $y_{\\text{target}}=(0,0,1)$ from the given label, then the MSE error will be $Error=(0.1-0)^2+(0.1-0)^2+(0.8-1)^2=0.06$\n",
    "\n",
    "Implement data loss and regularization loss. In the MSE function, you also need to return the gradients which need to be passed backward. This is similar to batch gradient in linear regression. Test your implementation of loss functions. The Difference should be less than 1e-12."
   ]
  },
  {
   "cell_type": "code",
   "execution_count": 5,
   "metadata": {},
   "outputs": [
    {
     "name": "stdout",
     "output_type": "stream",
     "text": [
      "Difference between your loss and correct loss:\n",
      "0.0\n"
     ]
    }
   ],
   "source": [
    "loss, _ = net.loss(X, y, reg=0.05)\n",
    "correct_loss_MSE = 1.8973332763705641\n",
    "\n",
    "# should be very small, we get < 1e-12\n",
    "print('Difference between your loss and correct loss:')\n",
    "print(np.sum(np.abs(loss - correct_loss_MSE)))"
   ]
  },
  {
   "cell_type": "markdown",
   "metadata": {},
   "source": [
    "### Backward pass (You do not need to implemented this part)\n",
    "\n",
    "We have already implemented the backwards pass of the neural network for you.  Run the block of code to check your gradients with the gradient check utilities provided. The results should be automatically correct (tiny relative error).\n",
    "\n",
    "If there is a gradient error larger than 1e-8, the training for neural networks later will be negatively affected."
   ]
  },
  {
   "cell_type": "code",
   "execution_count": 6,
   "metadata": {},
   "outputs": [
    {
     "name": "stdout",
     "output_type": "stream",
     "text": [
      "W2 max relative error: 8.80091875172355e-11\n",
      "b2 max relative error: 2.4554844805570154e-11\n",
      "W1 max relative error: 1.7476665046687833e-09\n",
      "b1 max relative error: 7.382451041178829e-10\n"
     ]
    }
   ],
   "source": [
    "from data.gradient_check import eval_numerical_gradient\n",
    "\n",
    "# Use numeric gradient checking to check your implementation of the backward pass.\n",
    "# If your implementation is correct, the difference between the numeric and\n",
    "# analytic gradients should be less than 1e-8 for each of W1, W2, b1, and b2.\n",
    "\n",
    "loss, grads = net.loss(X, y, reg=0.05)\n",
    "\n",
    "# these should all be less than 1e-8 or so\n",
    "for param_name in grads:\n",
    "    f = lambda W: net.loss(X, y, reg=0.05)[0]\n",
    "    param_grad_num = eval_numerical_gradient(f, net.params[param_name], verbose=False)\n",
    "    print('{} max relative error: {}'.format(param_name, rel_error(param_grad_num, grads[param_name])))"
   ]
  },
  {
   "cell_type": "markdown",
   "metadata": {},
   "source": [
    "### Training the network\n",
    "\n",
    "Implement neural_net.train() to train the network via stochastic gradient descent, much like the linear regression."
   ]
  },
  {
   "cell_type": "code",
   "execution_count": 7,
   "metadata": {},
   "outputs": [
    {
     "name": "stdout",
     "output_type": "stream",
     "text": [
      "Final training loss:  0.02950555626206818\n"
     ]
    },
    {
     "data": {
      "image/png": "[encoded data removed]",
      "text/plain": [
       "<Figure size 720x576 with 1 Axes>"
      ]
     },
     "metadata": {
      "needs_background": "light"
     },
     "output_type": "display_data"
    }
   ],
   "source": [
    "net = init_toy_model()\n",
    "stats = net.train(X, y, X, y,\n",
    "            learning_rate=1e-1, reg=5e-6,\n",
    "            num_iters=100, verbose=False)\n",
    "\n",
    "print('Final training loss: ', stats['loss_history'][-1])\n",
    "\n",
    "# plot the loss history\n",
    "plt.plot(stats['loss_history'])\n",
    "plt.xlabel('iteration')\n",
    "plt.ylabel('training loss')\n",
    "plt.title('Training Loss history')\n",
    "plt.show()"
   ]
  },
  {
   "cell_type": "markdown",
   "metadata": {},
   "source": [
    "## Classify CIFAR-10\n",
    "\n",
    "Do classification on the CIFAR-10 dataset."
   ]
  },
  {
   "cell_type": "code",
   "execution_count": 8,
   "metadata": {},
   "outputs": [
    {
     "name": "stdout",
     "output_type": "stream",
     "text": [
      "Train data shape:  (49000, 3072)\n",
      "Train labels shape:  (49000,)\n",
      "Validation data shape:  (1000, 3072)\n",
      "Validation labels shape:  (1000,)\n",
      "Test data shape:  (1000, 3072)\n",
      "Test labels shape:  (1000,)\n"
     ]
    }
   ],
   "source": [
    "from data.data_utils import load_CIFAR10\n",
    "\n",
    "def get_CIFAR10_data(num_training=49000, num_validation=1000, num_test=1000):\n",
    "    \"\"\"\n",
    "    Load the CIFAR-10 dataset from disk and perform preprocessing to prepare\n",
    "    it for the two-layer neural net classifier. These are the same steps as\n",
    "    we used for the SVM, but condensed to a single function.  \n",
    "    \"\"\"\n",
    "    # Load the raw CIFAR-10 data\n",
    "    cifar10_dir = './data/datasets/cifar-10-batches-py'\n",
    "    X_train, y_train, X_test, y_test = load_CIFAR10(cifar10_dir)\n",
    "        \n",
    "    # Subsample the data\n",
    "    mask = list(range(num_training, num_training + num_validation))\n",
    "    X_val = X_train[mask]\n",
    "    y_val = y_train[mask]\n",
    "    mask = list(range(num_training))\n",
    "    X_train = X_train[mask]\n",
    "    y_train = y_train[mask]\n",
    "    mask = list(range(num_test))\n",
    "    X_test = X_test[mask]\n",
    "    y_test = y_test[mask]\n",
    "\n",
    "    # Normalize the data: subtract the mean image\n",
    "    mean_image = np.mean(X_train, axis=0)\n",
    "    X_train -= mean_image\n",
    "    X_val -= mean_image\n",
    "    X_test -= mean_image\n",
    "\n",
    "    # Reshape data to rows\n",
    "    X_train = X_train.reshape(num_training, -1)\n",
    "    X_val = X_val.reshape(num_validation, -1)\n",
    "    X_test = X_test.reshape(num_test, -1)\n",
    "\n",
    "    return X_train, y_train, X_val, y_val, X_test, y_test\n",
    "\n",
    "\n",
    "# Invoke the above function to get our data.\n",
    "X_train, y_train, X_val, y_val, X_test, y_test = get_CIFAR10_data()\n",
    "print('Train data shape: ', X_train.shape)\n",
    "print('Train labels shape: ', y_train.shape)\n",
    "print('Validation data shape: ', X_val.shape)\n",
    "print('Validation labels shape: ', y_val.shape)\n",
    "print('Test data shape: ', X_test.shape)\n",
    "print('Test labels shape: ', y_test.shape)"
   ]
  },
  {
   "cell_type": "markdown",
   "metadata": {},
   "source": [
    "### Running SGD\n",
    "\n",
    "If your implementation is correct, you should see a validation accuracy of around 15-18%."
   ]
  },
  {
   "cell_type": "code",
   "execution_count": 9,
   "metadata": {},
   "outputs": [
    {
     "name": "stdout",
     "output_type": "stream",
     "text": [
      "iteration 0 / 1000: loss 0.5000623457905098\n",
      "iteration 100 / 1000: loss 0.4998246529435278\n",
      "iteration 200 / 1000: loss 0.4995946718475304\n",
      "iteration 300 / 1000: loss 0.49933536166627984\n",
      "iteration 400 / 1000: loss 0.4989962372581251\n",
      "iteration 500 / 1000: loss 0.49847178744773624\n",
      "iteration 600 / 1000: loss 0.49758927830530253\n",
      "iteration 700 / 1000: loss 0.4966248113033766\n",
      "iteration 800 / 1000: loss 0.4958001901438695\n",
      "iteration 900 / 1000: loss 0.4939583435911163\n",
      "Validation accuracy:  0.172\n",
      "Test accuracy (subopt_net):  0.191\n"
     ]
    }
   ],
   "source": [
    "input_size = 32 * 32 * 3\n",
    "hidden_size = 50\n",
    "num_classes = 10\n",
    "net = TwoLayerNet(input_size, hidden_size, num_classes)\n",
    "\n",
    "# Train the network\n",
    "stats = net.train(X_train, y_train, X_val, y_val,\n",
    "            num_iters=1000, batch_size=200,\n",
    "            learning_rate=1e-5, learning_rate_decay=0.95,\n",
    "            reg=0.1, verbose=True)\n",
    "\n",
    "# Predict on the validation set\n",
    "val_acc = (net.predict(X_val) == y_val).mean()\n",
    "print('Validation accuracy: ', val_acc)\n",
    "\n",
    "# Save this net as the variable subopt_net for later comparison.\n",
    "subopt_net = net\n",
    "test_acc = (subopt_net.predict(X_test) == y_test).mean()\n",
    "print('Test accuracy (subopt_net): ', test_acc)"
   ]
  },
  {
   "cell_type": "code",
   "execution_count": 10,
   "metadata": {
    "scrolled": true
   },
   "outputs": [
    {
     "data": {
      "text/plain": [
       "[0.09, 0.15, 0.225, 0.195, 0.225]"
      ]
     },
     "execution_count": 10,
     "metadata": {},
     "output_type": "execute_result"
    }
   ],
   "source": [
    "stats['train_acc_history']"
   ]
  },
  {
   "cell_type": "code",
   "execution_count": 11,
   "metadata": {},
   "outputs": [
    {
     "data": {
      "image/png": "[encoded data removed]",
      "text/plain": [
       "<Figure size 720x576 with 2 Axes>"
      ]
     },
     "metadata": {
      "needs_background": "light"
     },
     "output_type": "display_data"
    }
   ],
   "source": [
    "# Plot the loss function and train / validation accuracies\n",
    "plt.subplot(2, 1, 1)\n",
    "plt.plot(stats['loss_history'])\n",
    "plt.xlabel('Iteration')\n",
    "plt.ylabel('Loss')\n",
    "\n",
    "plt.subplot(2, 1, 2)\n",
    "plt.plot(stats['train_acc_history'], label='train')\n",
    "plt.plot(stats['val_acc_history'], label='val')\n",
    "plt.xlabel('Iteration')\n",
    "plt.ylabel('Accuracy')\n",
    "\n",
    "plt.show()"
   ]
  },
  {
   "cell_type": "markdown",
   "metadata": {},
   "source": [
    "**Questions:**\n",
    "\n",
    "The training accuracy isn't great. It seems even worse than simple KNN model, which is not as good as expected.\n",
    "\n",
    "(1) What are some of the reasons why this is the case? Based on previous observations, please provide at least two possible reasons with justification.\n",
    "\n",
    "(2) How should you fix the problems you identified in (1)?"
   ]
  },
  {
   "cell_type": "markdown",
   "metadata": {},
   "source": [
    "**Answers:**\n",
    "\n",
    "<span style=\"color:blue\"> 1. I think because we tried a subset of the possibilities of combinations of hyperparameters but there are so many more. Also, this is a two-layer neural network, so probably for such a dataset, we'd need .</span>\n",
    "<br>\n",
    "\n",
    "<span style=\"color:blue\">2. Probably by proper tuning or increasing the number of hidden layers/nodes</span>"
   ]
  },
  {
   "cell_type": "markdown",
   "metadata": {},
   "source": [
    "## Optimize the neural network\n",
    "\n",
    "Use the following part of the Jupyter notebook to optimize your hyperparameters on the validation set.  Store your nets as best_net. To get the full credit of the neural nets, you should get at least **45%** accuracy on validation set. \n",
    "\n",
    "**Reminder: Think about whether you should retrain a new model from scratch every time your try a new set of hyperparameters. **"
   ]
  },
  {
   "cell_type": "code",
   "execution_count": 12,
   "metadata": {},
   "outputs": [
    {
     "name": "stdout",
     "output_type": "stream",
     "text": [
      "iteration 0 / 1000: loss 0.491828519168669\n",
      "iteration 100 / 1000: loss 0.4593743449019668\n",
      "iteration 200 / 1000: loss 0.4480651160670165\n",
      "iteration 300 / 1000: loss 0.44335528959711595\n",
      "iteration 400 / 1000: loss 0.4452274893069379\n",
      "iteration 500 / 1000: loss 0.43910652028271485\n",
      "iteration 600 / 1000: loss 0.43442203392485473\n",
      "iteration 700 / 1000: loss 0.4354469254224735\n",
      "iteration 800 / 1000: loss 0.4376013062916228\n",
      "iteration 900 / 1000: loss 0.428242941065242\n",
      "Current validation accuracy:  0.264\n",
      "iteration 0 / 1000: loss 0.4340652324416934\n",
      "iteration 100 / 1000: loss 0.4306596476220053\n",
      "iteration 200 / 1000: loss 0.42239392452453467\n",
      "iteration 300 / 1000: loss 0.4154876727613203\n",
      "iteration 400 / 1000: loss 0.41857104571277093\n",
      "iteration 500 / 1000: loss 0.4154808619073914\n",
      "iteration 600 / 1000: loss 0.4193726656459394\n",
      "iteration 700 / 1000: loss 0.41961670111931065\n",
      "iteration 800 / 1000: loss 0.41265043994142686\n",
      "iteration 900 / 1000: loss 0.4172734956739185\n",
      "Current validation accuracy:  0.307\n",
      "iteration 0 / 1000: loss 0.4233992508158365\n",
      "iteration 100 / 1000: loss 0.41233502926538285\n",
      "iteration 200 / 1000: loss 0.4058834139386701\n",
      "iteration 300 / 1000: loss 0.40983427582736226\n",
      "iteration 400 / 1000: loss 0.41088568712030876\n",
      "iteration 500 / 1000: loss 0.4059680514550995\n",
      "iteration 600 / 1000: loss 0.4094236231339727\n",
      "iteration 700 / 1000: loss 0.4020933735019942\n",
      "iteration 800 / 1000: loss 0.40421744508504504\n",
      "iteration 900 / 1000: loss 0.40571461996822417\n",
      "Current validation accuracy:  0.337\n",
      "iteration 0 / 1000: loss 0.4108059180854597\n",
      "iteration 100 / 1000: loss 0.4030478075168988\n",
      "iteration 200 / 1000: loss 0.4157390909848854\n",
      "iteration 300 / 1000: loss 0.4035950123975332\n",
      "iteration 400 / 1000: loss 0.41171540990131883\n",
      "iteration 500 / 1000: loss 0.4080719721669285\n",
      "iteration 600 / 1000: loss 0.406601921055754\n",
      "iteration 700 / 1000: loss 0.4124785184270596\n",
      "iteration 800 / 1000: loss 0.406453056534932\n",
      "iteration 900 / 1000: loss 0.4122188799668786\n",
      "Current validation accuracy:  0.361\n",
      "iteration 0 / 1000: loss 0.39935657941621716\n",
      "iteration 100 / 1000: loss 0.40244193060588757\n",
      "iteration 200 / 1000: loss 0.39454202944664346\n",
      "iteration 300 / 1000: loss 0.3920898951287602\n",
      "iteration 400 / 1000: loss 0.3956192093975758\n",
      "iteration 500 / 1000: loss 0.39719383786584256\n",
      "iteration 600 / 1000: loss 0.3919775855424933\n",
      "iteration 700 / 1000: loss 0.3908001596458398\n",
      "iteration 800 / 1000: loss 0.3874060530610862\n",
      "iteration 900 / 1000: loss 0.39532720193839466\n",
      "Current validation accuracy:  0.377\n",
      "iteration 0 / 1000: loss 0.4019785558999202\n",
      "iteration 100 / 1000: loss 0.3982697519853124\n",
      "iteration 200 / 1000: loss 0.38548569253897075\n",
      "iteration 300 / 1000: loss 0.3917713924386973\n",
      "iteration 400 / 1000: loss 0.40028730890407355\n",
      "iteration 500 / 1000: loss 0.38589893357339655\n",
      "iteration 600 / 1000: loss 0.3973195735864443\n",
      "iteration 700 / 1000: loss 0.3996909654663869\n",
      "iteration 800 / 1000: loss 0.39359659914648837\n",
      "iteration 900 / 1000: loss 0.39424798103938286\n",
      "Current validation accuracy:  0.4\n",
      "iteration 0 / 1000: loss 0.3971865282614835\n",
      "iteration 100 / 1000: loss 0.3911601164488998\n",
      "iteration 200 / 1000: loss 0.39981613253399506\n",
      "iteration 300 / 1000: loss 0.3902609371273653\n",
      "iteration 400 / 1000: loss 0.3956578267286979\n",
      "iteration 500 / 1000: loss 0.3955632318775347\n",
      "iteration 600 / 1000: loss 0.38801266331747686\n",
      "iteration 700 / 1000: loss 0.3945949378199234\n",
      "iteration 800 / 1000: loss 0.40397872511612026\n",
      "iteration 900 / 1000: loss 0.39059597601569696\n",
      "Current validation accuracy:  0.419\n",
      "iteration 0 / 1000: loss 0.3985942259089697\n",
      "iteration 100 / 1000: loss 0.3952425562532922\n",
      "iteration 200 / 1000: loss 0.39990993386739004\n",
      "iteration 300 / 1000: loss 0.3906525542703701\n",
      "iteration 400 / 1000: loss 0.3908272755099813\n",
      "iteration 500 / 1000: loss 0.3902575203670184\n",
      "iteration 600 / 1000: loss 0.3975454307591144\n",
      "iteration 700 / 1000: loss 0.38893272242727717\n",
      "iteration 800 / 1000: loss 0.4010319314654664\n",
      "iteration 900 / 1000: loss 0.3960623453149657\n",
      "Current validation accuracy:  0.43\n",
      "iteration 0 / 1000: loss 0.3825793410689475\n",
      "iteration 100 / 1000: loss 0.38582515549003354\n",
      "iteration 200 / 1000: loss 0.3859699716464769\n",
      "iteration 300 / 1000: loss 0.38114862582795583\n",
      "iteration 400 / 1000: loss 0.38696911292250885\n",
      "iteration 500 / 1000: loss 0.38918359998811547\n",
      "iteration 600 / 1000: loss 0.38052445511696015\n",
      "iteration 700 / 1000: loss 0.3813438074191379\n",
      "iteration 800 / 1000: loss 0.3788159096098513\n",
      "iteration 900 / 1000: loss 0.3856245910190306\n",
      "Current validation accuracy:  0.439\n",
      "iteration 0 / 1000: loss 0.39641263058644305\n",
      "iteration 100 / 1000: loss 0.39177969824927716\n",
      "iteration 200 / 1000: loss 0.39815986658100555\n",
      "iteration 300 / 1000: loss 0.38186365856307325\n",
      "iteration 400 / 1000: loss 0.38798871510616667\n",
      "iteration 500 / 1000: loss 0.39245732036512065\n",
      "iteration 600 / 1000: loss 0.3884913088517946\n",
      "iteration 700 / 1000: loss 0.3818305110780462\n",
      "iteration 800 / 1000: loss 0.38103518662202385\n",
      "iteration 900 / 1000: loss 0.390136452838929\n",
      "Current validation accuracy:  0.441\n",
      "iteration 0 / 1000: loss 0.3848720676797809\n",
      "iteration 100 / 1000: loss 0.40155320890600676\n",
      "iteration 200 / 1000: loss 0.39312802473690983\n",
      "iteration 300 / 1000: loss 0.3930403946139401\n",
      "iteration 400 / 1000: loss 0.38428247187423736\n",
      "iteration 500 / 1000: loss 0.3888216185370409\n",
      "iteration 600 / 1000: loss 0.3976375423810342\n",
      "iteration 700 / 1000: loss 0.39247965986009803\n",
      "iteration 800 / 1000: loss 0.3907830283028373\n",
      "iteration 900 / 1000: loss 0.3900297310576455\n",
      "Current validation accuracy:  0.437\n",
      "iteration 0 / 1000: loss 0.39714503705813414\n",
      "iteration 100 / 1000: loss 0.39286281373835097\n",
      "iteration 200 / 1000: loss 0.3908440184560801\n",
      "iteration 300 / 1000: loss 0.38364450059465927\n",
      "iteration 400 / 1000: loss 0.39430428527938494\n",
      "iteration 500 / 1000: loss 0.3918310548984392\n",
      "iteration 600 / 1000: loss 0.4016248325280278\n",
      "iteration 700 / 1000: loss 0.3936798766587735\n",
      "iteration 800 / 1000: loss 0.3886289445808924\n",
      "iteration 900 / 1000: loss 0.3960795809046409\n",
      "Current validation accuracy:  0.442\n",
      "iteration 0 / 1000: loss 0.3743117049156927\n",
      "iteration 100 / 1000: loss 0.3802984102610946\n",
      "iteration 200 / 1000: loss 0.3792343190735273\n",
      "iteration 300 / 1000: loss 0.36970876296194727\n",
      "iteration 400 / 1000: loss 0.3735604755482732\n",
      "iteration 500 / 1000: loss 0.3674162964113852\n",
      "iteration 600 / 1000: loss 0.3656258888083957\n",
      "iteration 700 / 1000: loss 0.3726137464725428\n",
      "iteration 800 / 1000: loss 0.37279941530363825\n",
      "iteration 900 / 1000: loss 0.3708397276950828\n",
      "Current validation accuracy:  0.465\n",
      "iteration 0 / 1000: loss 0.3819873240471351\n",
      "iteration 100 / 1000: loss 0.3679433335048525\n",
      "iteration 200 / 1000: loss 0.38170646387960777\n",
      "iteration 300 / 1000: loss 0.36514273520759627\n",
      "iteration 400 / 1000: loss 0.3789869773467729\n",
      "iteration 500 / 1000: loss 0.37984251684948234\n",
      "iteration 600 / 1000: loss 0.37950427916916607\n",
      "iteration 700 / 1000: loss 0.37220422827745475\n",
      "iteration 800 / 1000: loss 0.3709818401925508\n",
      "iteration 900 / 1000: loss 0.3850127692227018\n",
      "Current validation accuracy:  0.474\n",
      "iteration 0 / 1000: loss 0.3774449043011656\n",
      "iteration 100 / 1000: loss 0.3747994309598436\n",
      "iteration 200 / 1000: loss 0.3850643351922388\n",
      "iteration 300 / 1000: loss 0.3895519312364059\n",
      "iteration 400 / 1000: loss 0.3804193453274446\n",
      "iteration 500 / 1000: loss 0.37903707181977037\n",
      "iteration 600 / 1000: loss 0.39113147374273766\n",
      "iteration 700 / 1000: loss 0.38383348898439384\n",
      "iteration 800 / 1000: loss 0.3849514454807054\n",
      "iteration 900 / 1000: loss 0.38656048072320137\n",
      "Current validation accuracy:  0.473\n",
      "iteration 0 / 1000: loss 0.39115118743492205\n",
      "iteration 100 / 1000: loss 0.390342828421666\n",
      "iteration 200 / 1000: loss 0.38033912405137155\n",
      "iteration 300 / 1000: loss 0.38368234150128744\n",
      "iteration 400 / 1000: loss 0.3918118360907782\n",
      "iteration 500 / 1000: loss 0.380425789298087\n",
      "iteration 600 / 1000: loss 0.38726064337498145\n",
      "iteration 700 / 1000: loss 0.39258993640399914\n",
      "iteration 800 / 1000: loss 0.3838735574031482\n",
      "iteration 900 / 1000: loss 0.3829005206848417\n",
      "Current validation accuracy:  0.461\n",
      "iteration 0 / 1000: loss 0.3584334153611443\n",
      "iteration 100 / 1000: loss 0.36287846458999934\n",
      "iteration 200 / 1000: loss 0.3570476999291992\n",
      "iteration 300 / 1000: loss 0.36487080648979214\n",
      "iteration 400 / 1000: loss 0.35845642101875763\n",
      "iteration 500 / 1000: loss 0.3627238081466878\n"
     ]
    },
    {
     "name": "stdout",
     "output_type": "stream",
     "text": [
      "iteration 600 / 1000: loss 0.3650138428920988\n",
      "iteration 700 / 1000: loss 0.36801912163881295\n",
      "iteration 800 / 1000: loss 0.36637315109182655\n",
      "iteration 900 / 1000: loss 0.36925404873182455\n",
      "Current validation accuracy:  0.484\n",
      "iteration 0 / 1000: loss 0.3672737516880294\n",
      "iteration 100 / 1000: loss 0.3646064225953911\n",
      "iteration 200 / 1000: loss 0.3729881258430438\n",
      "iteration 300 / 1000: loss 0.37053800511735097\n",
      "iteration 400 / 1000: loss 0.37741854583334694\n",
      "iteration 500 / 1000: loss 0.3730437382517972\n",
      "iteration 600 / 1000: loss 0.37258960760843884\n",
      "iteration 700 / 1000: loss 0.3774341081407202\n",
      "iteration 800 / 1000: loss 0.3750630985344679\n",
      "iteration 900 / 1000: loss 0.3691027725751869\n",
      "Current validation accuracy:  0.48\n",
      "iteration 0 / 1000: loss 0.38447312359356145\n",
      "iteration 100 / 1000: loss 0.3779975225458918\n",
      "iteration 200 / 1000: loss 0.38028508300121183\n",
      "iteration 300 / 1000: loss 0.3739029175047021\n",
      "iteration 400 / 1000: loss 0.3939467505136804\n",
      "iteration 500 / 1000: loss 0.3894453903056767\n",
      "iteration 600 / 1000: loss 0.3795585666950133\n",
      "iteration 700 / 1000: loss 0.37971562341908943\n",
      "iteration 800 / 1000: loss 0.3877929743835214\n",
      "iteration 900 / 1000: loss 0.37736567999793735\n",
      "Current validation accuracy:  0.479\n",
      "iteration 0 / 1000: loss 0.37993596018900005\n",
      "iteration 100 / 1000: loss 0.39420456673918375\n",
      "iteration 200 / 1000: loss 0.3953629426214623\n",
      "iteration 300 / 1000: loss 0.3887552856851104\n",
      "iteration 400 / 1000: loss 0.3881516902310604\n",
      "iteration 500 / 1000: loss 0.38275311509673715\n",
      "iteration 600 / 1000: loss 0.3943231845230773\n",
      "iteration 700 / 1000: loss 0.3784351151677802\n",
      "iteration 800 / 1000: loss 0.3916628202404279\n",
      "iteration 900 / 1000: loss 0.38458115024552003\n",
      "Current validation accuracy:  0.468\n",
      "iteration 0 / 1000: loss 0.3632580939931267\n",
      "iteration 100 / 1000: loss 0.3742191442446231\n",
      "iteration 200 / 1000: loss 0.3590605386983104\n",
      "iteration 300 / 1000: loss 0.3565756304435201\n",
      "iteration 400 / 1000: loss 0.3603505414587171\n",
      "iteration 500 / 1000: loss 0.3552092447467355\n",
      "iteration 600 / 1000: loss 0.3589943041394948\n",
      "iteration 700 / 1000: loss 0.3648322363855195\n",
      "iteration 800 / 1000: loss 0.355240856660366\n",
      "iteration 900 / 1000: loss 0.3546528185533645\n",
      "Current validation accuracy:  0.487\n",
      "iteration 0 / 1000: loss 0.3614394390945388\n",
      "iteration 100 / 1000: loss 0.3711142350227467\n",
      "iteration 200 / 1000: loss 0.3715102181860172\n",
      "iteration 300 / 1000: loss 0.3695557753154077\n",
      "iteration 400 / 1000: loss 0.36531100838166786\n",
      "iteration 500 / 1000: loss 0.3794075909560827\n",
      "iteration 600 / 1000: loss 0.37894808665665974\n",
      "iteration 700 / 1000: loss 0.37239488298272566\n",
      "iteration 800 / 1000: loss 0.37342510194843564\n",
      "iteration 900 / 1000: loss 0.3709811144353195\n",
      "Current validation accuracy:  0.485\n",
      "iteration 0 / 1000: loss 0.3770099630772942\n",
      "iteration 100 / 1000: loss 0.37933982308808956\n",
      "iteration 200 / 1000: loss 0.3837794334813302\n",
      "iteration 300 / 1000: loss 0.37423656540500055\n",
      "iteration 400 / 1000: loss 0.3725117127459501\n",
      "iteration 500 / 1000: loss 0.3826673100518291\n",
      "iteration 600 / 1000: loss 0.37462525180580014\n",
      "iteration 700 / 1000: loss 0.3886682198147364\n",
      "iteration 800 / 1000: loss 0.3766874121003313\n",
      "iteration 900 / 1000: loss 0.37269722888315643\n",
      "Current validation accuracy:  0.481\n",
      "iteration 0 / 1000: loss 0.39423476171651656\n",
      "iteration 100 / 1000: loss 0.3986613489758976\n",
      "iteration 200 / 1000: loss 0.384906878611252\n",
      "iteration 300 / 1000: loss 0.38090971244632865\n",
      "iteration 400 / 1000: loss 0.3923792643971217\n",
      "iteration 500 / 1000: loss 0.38706945822793914\n",
      "iteration 600 / 1000: loss 0.3834383306176663\n",
      "iteration 700 / 1000: loss 0.39105160344673917\n",
      "iteration 800 / 1000: loss 0.3853009558874106\n",
      "iteration 900 / 1000: loss 0.385921186422204\n",
      "Current validation accuracy:  0.473\n",
      "iteration 0 / 1000: loss 0.3636906601685931\n"
     ]
    },
    {
     "name": "stderr",
     "output_type": "stream",
     "text": [
      "/Users/alimirabzadeh/Desktop/UCLA-CS-145---Intor-to-Data-Mining/hw3/hw3code/neural_net.py:146: RuntimeWarning: overflow encountered in square\n",
      "  loss = 0.5 * np.sum(np.square(diff)) / n\n",
      "/Users/alimirabzadeh/Desktop/UCLA-CS-145---Intor-to-Data-Mining/hw3/hw3code/neural_net.py:183: RuntimeWarning: invalid value encountered in multiply\n",
      "  dh = (dscore.dot(W2) * da_h)\n",
      "/Users/alimirabzadeh/Desktop/UCLA-CS-145---Intor-to-Data-Mining/hw3/hw3code/neural_net.py:182: RuntimeWarning: invalid value encountered in greater\n",
      "  da_h[h1>0] = 1\n"
     ]
    },
    {
     "name": "stdout",
     "output_type": "stream",
     "text": [
      "iteration 100 / 1000: loss nan\n",
      "iteration 200 / 1000: loss nan\n",
      "iteration 300 / 1000: loss nan\n",
      "iteration 400 / 1000: loss nan\n",
      "iteration 500 / 1000: loss nan\n",
      "iteration 600 / 1000: loss nan\n",
      "iteration 700 / 1000: loss nan\n",
      "iteration 800 / 1000: loss nan\n",
      "iteration 900 / 1000: loss nan\n",
      "Current validation accuracy:  0.087\n",
      "iteration 0 / 1000: loss nan\n",
      "iteration 100 / 1000: loss nan\n",
      "iteration 200 / 1000: loss nan\n",
      "iteration 300 / 1000: loss nan\n",
      "iteration 400 / 1000: loss nan\n",
      "iteration 500 / 1000: loss nan\n",
      "iteration 600 / 1000: loss nan\n",
      "iteration 700 / 1000: loss nan\n",
      "iteration 800 / 1000: loss nan\n",
      "iteration 900 / 1000: loss nan\n",
      "Current validation accuracy:  0.087\n",
      "iteration 0 / 1000: loss nan\n",
      "iteration 100 / 1000: loss nan\n",
      "iteration 200 / 1000: loss nan\n",
      "iteration 300 / 1000: loss nan\n",
      "iteration 400 / 1000: loss nan\n",
      "iteration 500 / 1000: loss nan\n",
      "iteration 600 / 1000: loss nan\n",
      "iteration 700 / 1000: loss nan\n",
      "iteration 800 / 1000: loss nan\n",
      "iteration 900 / 1000: loss nan\n",
      "Current validation accuracy:  0.087\n",
      "iteration 0 / 1000: loss nan\n",
      "iteration 100 / 1000: loss nan\n",
      "iteration 200 / 1000: loss nan\n",
      "iteration 300 / 1000: loss nan\n",
      "iteration 400 / 1000: loss nan\n",
      "iteration 500 / 1000: loss nan\n",
      "iteration 600 / 1000: loss nan\n",
      "iteration 700 / 1000: loss nan\n",
      "iteration 800 / 1000: loss nan\n",
      "iteration 900 / 1000: loss nan\n",
      "Current validation accuracy:  0.087\n",
      "iteration 0 / 1000: loss nan\n",
      "iteration 100 / 1000: loss nan\n",
      "iteration 200 / 1000: loss nan\n",
      "iteration 300 / 1000: loss nan\n",
      "iteration 400 / 1000: loss nan\n",
      "iteration 500 / 1000: loss nan\n",
      "iteration 600 / 1000: loss nan\n",
      "iteration 700 / 1000: loss nan\n",
      "iteration 800 / 1000: loss nan\n",
      "iteration 900 / 1000: loss nan\n",
      "Current validation accuracy:  0.087\n",
      "iteration 0 / 1000: loss nan\n",
      "iteration 100 / 1000: loss nan\n",
      "iteration 200 / 1000: loss nan\n",
      "iteration 300 / 1000: loss nan\n",
      "iteration 400 / 1000: loss nan\n",
      "iteration 500 / 1000: loss nan\n",
      "iteration 600 / 1000: loss nan\n",
      "iteration 700 / 1000: loss nan\n",
      "iteration 800 / 1000: loss nan\n",
      "iteration 900 / 1000: loss nan\n",
      "Current validation accuracy:  0.087\n",
      "iteration 0 / 1000: loss nan\n",
      "iteration 100 / 1000: loss nan\n",
      "iteration 200 / 1000: loss nan\n",
      "iteration 300 / 1000: loss nan\n",
      "iteration 400 / 1000: loss nan\n",
      "iteration 500 / 1000: loss nan\n",
      "iteration 600 / 1000: loss nan\n",
      "iteration 700 / 1000: loss nan\n",
      "iteration 800 / 1000: loss nan\n",
      "iteration 900 / 1000: loss nan\n",
      "Current validation accuracy:  0.087\n",
      "iteration 0 / 1000: loss nan\n",
      "iteration 100 / 1000: loss nan\n",
      "iteration 200 / 1000: loss nan\n",
      "iteration 300 / 1000: loss nan\n",
      "iteration 400 / 1000: loss nan\n",
      "iteration 500 / 1000: loss nan\n",
      "iteration 600 / 1000: loss nan\n",
      "iteration 700 / 1000: loss nan\n",
      "iteration 800 / 1000: loss nan\n",
      "iteration 900 / 1000: loss nan\n",
      "Current validation accuracy:  0.087\n",
      "iteration 0 / 1000: loss nan\n",
      "iteration 100 / 1000: loss nan\n",
      "iteration 200 / 1000: loss nan\n",
      "iteration 300 / 1000: loss nan\n",
      "iteration 400 / 1000: loss nan\n",
      "iteration 500 / 1000: loss nan\n",
      "iteration 600 / 1000: loss nan\n",
      "iteration 700 / 1000: loss nan\n",
      "iteration 800 / 1000: loss nan\n",
      "iteration 900 / 1000: loss nan\n",
      "Current validation accuracy:  0.087\n",
      "iteration 0 / 1000: loss nan\n",
      "iteration 100 / 1000: loss nan\n",
      "iteration 200 / 1000: loss nan\n",
      "iteration 300 / 1000: loss nan\n",
      "iteration 400 / 1000: loss nan\n",
      "iteration 500 / 1000: loss nan\n",
      "iteration 600 / 1000: loss nan\n",
      "iteration 700 / 1000: loss nan\n",
      "iteration 800 / 1000: loss nan\n",
      "iteration 900 / 1000: loss nan\n",
      "Current validation accuracy:  0.087\n",
      "iteration 0 / 1000: loss nan\n",
      "iteration 100 / 1000: loss nan\n",
      "iteration 200 / 1000: loss nan\n",
      "iteration 300 / 1000: loss nan\n",
      "iteration 400 / 1000: loss nan\n",
      "iteration 500 / 1000: loss nan\n",
      "iteration 600 / 1000: loss nan\n",
      "iteration 700 / 1000: loss nan\n",
      "iteration 800 / 1000: loss nan\n",
      "iteration 900 / 1000: loss nan\n",
      "Current validation accuracy:  0.087\n",
      "iteration 0 / 1000: loss nan\n",
      "iteration 100 / 1000: loss nan\n",
      "iteration 200 / 1000: loss nan\n",
      "iteration 300 / 1000: loss nan\n",
      "iteration 400 / 1000: loss nan\n",
      "iteration 500 / 1000: loss nan\n",
      "iteration 600 / 1000: loss nan\n",
      "iteration 700 / 1000: loss nan\n",
      "iteration 800 / 1000: loss nan\n",
      "iteration 900 / 1000: loss nan\n",
      "Current validation accuracy:  0.087\n",
      "== Best parameter settings ==\n",
      "Best accuracy on validation set: 0.487\n"
     ]
    }
   ],
   "source": [
    "best_net = None # store the best model into this \n",
    "\n",
    "# ================================================================ #\n",
    "# START YOUR CODE HERE:\n",
    "# ================================================================ #\n",
    "#   Optimize over your hyperparameters to arrive at the best neural\n",
    "#   network.  You should be able to get over 45% validation accuracy.\n",
    "#   For this part of the notebook, we will give credit based on the\n",
    "#   accuracy you get.  Your score on this question will be multiplied by:\n",
    "#      min(floor((X - 23%)) / %22, 1) \n",
    "#   where if you get 50% or higher validation accuracy, you get full\n",
    "#   points.\n",
    "#\n",
    "#   Note, you need to use the same network structure (keep hidden_size = 50)!\n",
    "# ================================================================ #\n",
    "\n",
    "# todo: optimal parameter search (you may use grid search by for-loops )\n",
    "optimal_settings = ''\n",
    "learning_rates = [1e-4, 1e-3]\n",
    "decays = [0.8, 0.75, 0.6]\n",
    "regularizations = [1, 2, 3, 4]\n",
    "hidden_size = 50 \n",
    "num_classes = 10 \n",
    "best_valacc = 0 \n",
    "for lr in learning_rates:\n",
    "    for decay in decays:\n",
    "        for regz in regularizations:\n",
    "            stats = net.train(X_train, y_train, X_val, y_val, num_iters=1000, batch_size=500, learning_rate=lr, learning_rate_decay=decay, reg=regz, verbose=True)\n",
    "            acc = (net.predict(X_val) == y_val).mean()\n",
    "            print('Current validation accuracy: ', acc)\n",
    "            if acc > best_valacc:\n",
    "                best_valacc = acc\n",
    "                best_net = net\n",
    "                optimal_settings = 'learning_rate: {}, iterations: {}, batch_sizes: {}, lrdecay: {}, regularization: {}'.format(lr, 1000, 500, decay, regz)\n",
    "# ================================================================ #\n",
    "# END YOUR CODE HERE\n",
    "# ================================================================ #\n",
    "# Output your results\n",
    "print(\"== Best parameter settings ==\")\n",
    "# print your best parameter setting here!\n",
    "print(\"Best accuracy on validation set: {}\".format(best_valacc))"
   ]
  },
  {
   "cell_type": "markdown",
   "metadata": {},
   "source": [
    "**Quesions**\n",
    "\n",
    "(1) What is your best parameter settings? (Output from the previous cell)\n",
    "\n",
    "(2) What parameters did you tune? How are they changing the performance of nerural network? You can discuss any observations from the optimization."
   ]
  },
  {
   "cell_type": "code",
   "execution_count": 13,
   "metadata": {},
   "outputs": [
    {
     "name": "stdout",
     "output_type": "stream",
     "text": [
      "Best Accuracy: 0.487\n",
      "Optimal Setting: learning_rate: 0.001, iterations: 1000, batch_sizes: 500, lrdecay: 0.6, regularization: 1\n"
     ]
    }
   ],
   "source": [
    "print('Best Accuracy: {}\\nOptimal Setting: {}'.format(best_valacc, optimal_settings))"
   ]
  },
  {
   "cell_type": "markdown",
   "metadata": {},
   "source": [
    "**Answers**\n",
    "\n",
    "<span style=\"color:blue\"> 2. I tuned learning_rates, decays, regularizations to get more than 45%. Through experimentation I realized that a those are the main parameters affecting to get a higher accuracy.</span>"
   ]
  },
  {
   "cell_type": "markdown",
   "metadata": {},
   "source": [
    "---"
   ]
  },
  {
   "cell_type": "markdown",
   "metadata": {},
   "source": [
    "## Visualize the weights of your neural networks"
   ]
  },
  {
   "cell_type": "code",
   "execution_count": 15,
   "metadata": {},
   "outputs": [
    {
     "data": {
      "image/png": "[encoded data removed]",
      "text/plain": [
       "<Figure size 720x576 with 1 Axes>"
      ]
     },
     "metadata": {
      "needs_background": "light"
     },
     "output_type": "display_data"
    },
    {
     "data": {
      "image/png": "[encoded data removed]",
      "text/plain": [
       "<Figure size 720x576 with 1 Axes>"
      ]
     },
     "metadata": {
      "needs_background": "light"
     },
     "output_type": "display_data"
    }
   ],
   "source": [
    "from data.vis_utils import visualize_grid\n",
    "\n",
    "# Visualize the weights of the network\n",
    "\n",
    "def show_net_weights(net):\n",
    "    W1 = net.params['W1']\n",
    "    W1 = W1.T.reshape(32, 32, 3, -1).transpose(3, 0, 1, 2)\n",
    "    plt.imshow(visualize_grid(W1, padding=3).astype('uint8'))\n",
    "    plt.gca().axis('off')\n",
    "    plt.show()\n",
    "\n",
    "show_net_weights(subopt_net)\n",
    "show_net_weights(best_net)"
   ]
  },
  {
   "cell_type": "markdown",
   "metadata": {},
   "source": [
    "**Questions:**\n",
    "\n",
    "What differences do you see in the weights between the suboptimal net and the best net you arrived at? What do the weights in neural networks probably learn after training?"
   ]
  },
  {
   "cell_type": "markdown",
   "metadata": {},
   "source": [
    "**Answer:**\n",
    "\n",
    "<span style=\"color:blue\"> Please write down your answer here! </span>"
   ]
  },
  {
   "cell_type": "markdown",
   "metadata": {},
   "source": [
    "---"
   ]
  },
  {
   "cell_type": "markdown",
   "metadata": {},
   "source": [
    "## Evaluate on test set "
   ]
  },
  {
   "cell_type": "code",
   "execution_count": 16,
   "metadata": {},
   "outputs": [
    {
     "name": "stdout",
     "output_type": "stream",
     "text": [
      "Test accuracy (best_net):  0.103\n"
     ]
    }
   ],
   "source": [
    "test_acc = (best_net.predict(X_test) == y_test).mean()\n",
    "print('Test accuracy (best_net): ', test_acc)"
   ]
  },
  {
   "cell_type": "markdown",
   "metadata": {},
   "source": [
    "**Questions:**\n",
    "\n",
    "(1) What is your test accuracy by using the best NN you have got? How much does the performance increase compared with kNN? Why can neural networks perform better than kNN?\n",
    "\n",
    "(2) Do you have any other ideas or suggestions to further improve the performance of neural networks other than the parameters you have tried in the homework? "
   ]
  },
  {
   "cell_type": "markdown",
   "metadata": {},
   "source": [
    "**Answers:**\n",
    "\n",
    "<span style=\"color:blue\"> Please write down your answer here! </span>"
   ]
  },
  {
   "cell_type": "markdown",
   "metadata": {},
   "source": [
    "---"
   ]
  },
  {
   "cell_type": "markdown",
   "metadata": {},
   "source": [
    "## Bonus Question: Change MSE Loss to Cross Entropy Loss"
   ]
  },
  {
   "cell_type": "markdown",
   "metadata": {},
   "source": [
    "This is a bonus question. If you finish this (cross entropy loss) correctly, you will get **up to 10 points** (add up to your HW3 score). \n",
    "\n",
    "Note: From grading policy of this course, your maximum points from homework are still 25 out of 100, but you can use the bonus question to make up other deduction of other assignments."
   ]
  },
  {
   "cell_type": "markdown",
   "metadata": {},
   "source": [
    "Pass output scores in networks from forward pass into softmax function. The softmax function is defined as,\n",
    "$$p_j = \\sigma(z_j) = \\frac{e^{z_j}}{\\sum_{c=1}^{C} e^{z_c}}$$\n",
    "After softmax, the scores can be considered as probability of $j$-th class.\n",
    "\n",
    "The cross entropy loss is defined as,\n",
    "$$L = L_{\\text{CE}}+L_{reg} = \\frac{1}{N}\\sum_{i=1}^{N} \\log \\left(p_{i,j}\\right)+ \\frac{\\lambda}{2} \\left(||W_1||^2 + ||W_2||^2 \\right)$$\n",
    "\n",
    "To take derivative of this loss, you will get the gradient as,\n",
    "$$\\frac{\\partial L_{\\text{CE}}}{\\partial o_i} = p_i - y_i $$\n",
    "\n",
    "More details about multi-class cross entropy loss, please check [http://cs231n.github.io/linear-classify/](http://cs231n.github.io/linear-classify/) and [more explanation](https://deepnotes.io/softmax-crossentropy) about the derivative of cross entropy."
   ]
  },
  {
   "cell_type": "markdown",
   "metadata": {},
   "source": [
    "Change the loss from MSE to cross entropy, you only need to change you ```MSE_loss(x,y)``` in ```TwoLayerNet.loss()``` function to ```softmax_loss(x,y)```."
   ]
  },
  {
   "cell_type": "markdown",
   "metadata": {},
   "source": [
    "**Now you are free to use any code to show your results of the two-layer networks with newly-implemented cross entropy loss. You can use code from previous cells.**"
   ]
  },
  {
   "cell_type": "code",
   "execution_count": null,
   "metadata": {},
   "outputs": [],
   "source": [
    "# Start training your networks and show your results\n",
    "# ================================================================ #\n",
    "# START YOUR CODE HERE:\n",
    "# ================================================================ #\n",
    "pass\n",
    "# ================================================================ #\n",
    "# END YOUR CODE HERE\n",
    "# ================================================================ #"
   ]
  },
  {
   "cell_type": "markdown",
   "metadata": {},
   "source": [
    "----\n",
    "\n",
    "## End of Homework 3, Part 2 :)\n",
    "\n",
    "After you've finished both parts the homework, please print out the both of the entire `ipynb` notebooks and `py` files into one PDF file. Make sure you include the output of code cells and answers for questions. Prepare submit it to GradeScope. Do not include any dataset in your submission.  "
   ]
  }
 ],
 "metadata": {
  "kernelspec": {
   "display_name": "Python 3",
   "language": "python",
   "name": "python3"
  },
  "language_info": {
   "codemirror_mode": {
    "name": "ipython",
    "version": 3
   },
   "file_extension": ".py",
   "mimetype": "text/x-python",
   "name": "python",
   "nbconvert_exporter": "python",
   "pygments_lexer": "ipython3",
   "version": "3.8.3"
  }
 },
 "nbformat": 4,
 "nbformat_minor": 2
}
