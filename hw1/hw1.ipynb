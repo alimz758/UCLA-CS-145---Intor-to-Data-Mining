{
 "cells": [
  {
   "cell_type": "markdown",
   "metadata": {},
   "source": [
    "# CS145 Howework 1 \n",
    "\n",
    "<span style=\"color:red\"> **Important Note:** </span>\n",
    "HW1 is due on **11:59 PM PT, Oct 19 (Monday, Week 3)**. Please submit through GradeScope (you will receive an invite to Gradescope for CS145 Fall 2020.). \n",
    "\n",
    "## Print Out Your Name and UID\n",
    "\n",
    "<span style=\"color:blue\"> **Name: Ali Mirabzadeh , UID: 305179067 </span>\n",
    "\n",
    "## Before You Start\n",
    "\n",
    "You need to first create HW1 conda environment by the given `cs145hw1.yml` file, which provides the name and necessary packages for this tasks. If you have `conda` properly installed, you may create, activate or deactivate by the following commands:\n",
    "\n",
    "```\n",
    "conda create -f cs145hw1.yml\n",
    "conda activate hw1\n",
    "conda deactivate\n",
    "```\n",
    "More useful information about managing environments can be found [here](https://docs.conda.io/projects/conda/en/latest/user-guide/tasks/manage-environments.html).\n",
    "\n",
    "You may also quickly review the usage of basic Python and Numpy package, if needed in coding for matrix operations.\n",
    "\n",
    "In this notebook, you must not delete any code cells in this notebook. If you change any code outside the blocks that you are allowed to edit (between `STRART/END YOUR CODE HERE`), you need to highlight these changes. You may add some additional cells to help explain your results and observations."
   ]
  },
  {
   "cell_type": "code",
   "execution_count": 1,
   "metadata": {},
   "outputs": [],
   "source": [
    "import numpy as np \n",
    "import pandas as pd\n",
    "import sys \n",
    "import random as rd\n",
    "import matplotlib.pyplot as plt\n",
    "import matplotlib.image as mpimg\n",
    "%load_ext autoreload\n",
    "%autoreload 2"
   ]
  },
  {
   "cell_type": "markdown",
   "metadata": {},
   "source": [
    "If you can successfully run the code above, there will be no problem for environment setting."
   ]
  },
  {
   "cell_type": "markdown",
   "metadata": {},
   "source": [
    "## 1. Linear regression \n",
    "This workbook will walk you through a linear regression example. "
   ]
  },
  {
   "cell_type": "code",
   "execution_count": 2,
   "metadata": {},
   "outputs": [
    {
     "name": "stdout",
     "output_type": "stream",
     "text": [
      "Training data shape:  (1000, 100)\n",
      "Training labels shape: (1000,)\n"
     ]
    }
   ],
   "source": [
    "from hw1code.linear_regression import LinearRegression\n",
    "\n",
    "lm=LinearRegression()\n",
    "lm.load_data('./data/linear-regression-train.csv','./data/linear-regression-test.csv')\n",
    "# As a sanity check, we print out the size of the training data (1000, 100) and training labels (1000,)\n",
    "print('Training data shape: ', lm.train_x.shape)\n",
    "print('Training labels shape:', lm.train_y.shape)"
   ]
  },
  {
   "cell_type": "markdown",
   "metadata": {},
   "source": [
    "### 1.1 Closed form solution\n",
    "In this section, complete the `getBeta` function in `linear_regression.py` which use the close for solution of $\\hat{\\beta}$.\n",
    "\n",
    "Train you model by using `lm.train('0')` function.\n",
    "\n",
    "Print the training error and the testing error using `lm.predict` and `lm.compute_mse` given."
   ]
  },
  {
   "cell_type": "code",
   "execution_count": 3,
   "metadata": {},
   "outputs": [
    {
     "name": "stdout",
     "output_type": "stream",
     "text": [
      "Learning Algorithm Type:  0\n",
      "Training error is:  0.08693886675396784\n",
      "Testing error is:  0.11017540281675804\n",
      "Learning Algorithm Type:  0\n",
      "Normalized training error is:  0.08693886675396784\n",
      "Normalized testing error is:  0.11017540281675804\n"
     ]
    }
   ],
   "source": [
    "from hw1code.linear_regression import LinearRegression\n",
    "\n",
    "lm=LinearRegression()\n",
    "lm.load_data('./data/linear-regression-train.csv','./data/linear-regression-test.csv')\n",
    "training_error= 0\n",
    "testing_error= 0\n",
    "#========================#\n",
    "# STRART YOUR CODE HERE  #\n",
    "#========================#\n",
    "beta = lm.train('0')\n",
    "train_predict = lm.predict(lm.train_x.values, beta)\n",
    "test_predict = lm.predict(lm.test_x.values, beta)\n",
    "training_error =  lm.compute_mse(train_predict,lm.train_y.values)\n",
    "testing_error = lm.compute_mse(test_predict, lm.test_y.values)\n",
    "#========================#\n",
    "#   END YOUR CODE HERE   #\n",
    "#========================# \n",
    "print('Training error is: ', training_error)\n",
    "print('Testing error is: ', testing_error)\n",
    "\n",
    "## below for normalizing\n",
    "lm.normalize()\n",
    "beta_normalized = lm.train('0')\n",
    "train_predict_n = lm.predict(lm.train_x.values, beta_normalized)\n",
    "test_predict_n = lm.predict(lm.test_x.values, beta_normalized)\n",
    "training_error_n =  lm.compute_mse(train_predict_n,lm.train_y.values)\n",
    "testing_error_n = lm.compute_mse(test_predict_n, lm.test_y.values)\n",
    "print('Normalized training error is: ', training_error_n)\n",
    "print('Normalized testing error is: ', testing_error_n)"
   ]
  },
  {
   "cell_type": "markdown",
   "metadata": {},
   "source": [
    "### 1.2 Batch gradient descent\n",
    "In this section, complete the `getBetaBatchGradient` function in `linear_regression.py` which compute the gradient of the objective fuction. \n",
    "\n",
    "Train you model by using `lm.train('1')` function.\n",
    "\n",
    "Print the training error and the testing error using `lm.predict` and `lm.compute_mse` given."
   ]
  },
  {
   "cell_type": "code",
   "execution_count": 4,
   "metadata": {},
   "outputs": [
    {
     "name": "stdout",
     "output_type": "stream",
     "text": [
      "Learning Algorithm Type:  1\n",
      "Training error is:  0.08693919081192665\n",
      "Testing error is:  0.11019432186477264\n",
      "Learning Algorithm Type:  1\n",
      "Normalized training error is:  0.09654351096262996\n",
      "Normalized testing error is:  0.12865993449113894\n"
     ]
    }
   ],
   "source": [
    "lm=LinearRegression()\n",
    "lm.load_data('./data/linear-regression-train.csv','./data/linear-regression-test.csv')\n",
    "training_error= 0\n",
    "testing_error= 0\n",
    "#========================#\n",
    "# STRART YOUR CODE HERE  #\n",
    "#========================#\n",
    "beta = lm.train('1')\n",
    "train_predict = lm.predict(lm.train_x.values, beta)\n",
    "test_predict = lm.predict(lm.test_x.values, beta)\n",
    "training_error =  lm.compute_mse(train_predict,lm.train_y.values)\n",
    "testing_error = lm.compute_mse(test_predict, lm.test_y.values)\n",
    "#========================#\n",
    "#   END YOUR CODE HERE   #\n",
    "#========================# \n",
    "print('Training error is: ', training_error)\n",
    "print('Testing error is: ', testing_error)\n",
    "\n",
    "## below for normalizing\n",
    "lm.normalize()\n",
    "beta_normalized = lm.train('1')\n",
    "train_predict_n = lm.predict(lm.train_x.values, beta_normalized)\n",
    "test_predict_n = lm.predict(lm.test_x.values, beta_normalized)\n",
    "training_error_n =  lm.compute_mse(train_predict_n,lm.train_y.values)\n",
    "testing_error_n = lm.compute_mse(test_predict_n, lm.test_y.values)\n",
    "print('Normalized training error is: ', training_error_n)\n",
    "print('Normalized testing error is: ', testing_error_n)"
   ]
  },
  {
   "cell_type": "markdown",
   "metadata": {},
   "source": [
    "### 1.3 Stochastic gadient descent \n",
    "In this section, complete the `getBetaStochasticGradient` function in `linear_regression.py`, which use an estimated gradient of the objective function.\n",
    "\n",
    "Train you model by using `lm.train('2')` function.\n",
    "\n",
    "Print the training error and the testing error using `lm.predict` and `lm.compute_mse` given."
   ]
  },
  {
   "cell_type": "code",
   "execution_count": 5,
   "metadata": {},
   "outputs": [
    {
     "name": "stdout",
     "output_type": "stream",
     "text": [
      "Learning Algorithm Type:  2\n",
      "Training error is:  91.10508480511325\n",
      "Testing error is:  96.50500424208748\n",
      "Learning Algorithm Type:  2\n",
      "Normalized training error is:  31.219733063437648\n",
      "Normalized testing error is:  29.420724030847268\n"
     ]
    }
   ],
   "source": [
    "lm=LinearRegression()\n",
    "lm.load_data('./data/linear-regression-train.csv','./data/linear-regression-test.csv')\n",
    "training_error= 0\n",
    "testing_error= 0\n",
    "#========================#\n",
    "# STRART YOUR CODE HERE  #\n",
    "#========================#\n",
    "beta = lm.train('2')\n",
    "train_predict = lm.predict(lm.train_x.values, beta)\n",
    "test_predict = lm.predict(lm.test_x.values, beta)\n",
    "training_error =  lm.compute_mse(train_predict,lm.train_y.values)\n",
    "testing_error = lm.compute_mse(test_predict, lm.test_y.values)\n",
    "#========================#\n",
    "#   END YOUR CODE HERE   #\n",
    "#========================# \n",
    "print('Training error is: ', training_error)\n",
    "print('Testing error is: ', testing_error)\n",
    "\n",
    "## below for normalizing\n",
    "lm.normalize()\n",
    "beta_normalized = lm.train('2')\n",
    "train_predict_n = lm.predict(lm.train_x.values, beta_normalized)\n",
    "test_predict_n = lm.predict(lm.test_x.values, beta_normalized)\n",
    "training_error_n =  lm.compute_mse(train_predict_n,lm.train_y.values)\n",
    "testing_error_n = lm.compute_mse(test_predict_n, lm.test_y.values)\n",
    "print('Normalized training error is: ', training_error_n)\n",
    "print('Normalized testing error is: ', testing_error_n)"
   ]
  },
  {
   "cell_type": "markdown",
   "metadata": {},
   "source": [
    "### Questions: \n",
    "1. Compare the MSE on the testing dataset for each version. Are they the same? Why or why not?\n",
    "2. Apply z-score normalization for eachh featrure and comment whether or not it affect the three algorithm. \n",
    "3. Ridge regression is adding an L2 regularization term to the original objective function of mean squared error. The objective function become following: \n",
    "    $$ J(\\beta) = \\frac{1}{2n} \\sum_i \\left(x_i^T\\beta - y_i \\right)^2 + \\frac{\\lambda}{2n} \\sum_j \\beta_j^2 ,$$ \n",
    "where $\\lambda \\leq 0$, which is a hyper parameter that controls the trade off. Take the derivative of this provided objective function and derive the closed form solution for $\\beta$. "
   ]
  },
  {
   "cell_type": "markdown",
   "metadata": {},
   "source": [
    "### Your answer here: \n"
   ]
  },
  {
   "cell_type": "markdown",
   "metadata": {},
   "source": [
    "<span style=\"color:blue\"> 1. With some small precision difference, they are the same. We see the error rates to vary because thse are different models. The stochastic gradient descent has the largest error rate because our dataset is not large enough for this method to be efficent. More precise methods like batch gradient descent and linear regression are more effective. </span><br>\n",
    "  <span style=\"color:blue\">   2. You can see each section (1.1, 1.2, 1.3) as I have written the code for it and see the printed result. With the normalized data we can see an increase in error rate for batch gradient descent, no change in error rate for linear regression and a decrease in error rate for stochastic gradient descent. </span> <br>\n",
    "   <span style=\"color:blue\">  3.  $$ \\beta =  \\left(x^T x + λ\\right)^-1 + \\left(x^T y\\right)$$  </span>\n",
    "  "
   ]
  },
  {
   "cell_type": "markdown",
   "metadata": {},
   "source": [
    "## 2. Logistic regression \n",
    "This workbook will walk you through a logistic regression example. "
   ]
  },
  {
   "cell_type": "code",
   "execution_count": 6,
   "metadata": {},
   "outputs": [
    {
     "name": "stdout",
     "output_type": "stream",
     "text": [
      "Training data shape:  (1000, 5)\n",
      "Training labels shape: (1000,)\n"
     ]
    }
   ],
   "source": [
    "from hw1code.logistic_regression import LogisticRegression\n",
    "\n",
    "lm=LogisticRegression()\n",
    "lm.load_data('./data/logistic-regression-train.csv','./data/logistic-regression-test.csv')\n",
    "# As a sanity chech, we print out the size of the training data (1000, 5) and training labels (1000,)\n",
    "print('Training data shape: ', lm.train_x.shape)\n",
    "print('Training labels shape:', lm.train_y.shape)"
   ]
  },
  {
   "cell_type": "markdown",
   "metadata": {},
   "source": [
    "### 2.1 Batch gradiend descent\n",
    "In this section, complete the `getBeta_BatchGradient` in `logistic_regression.py`, which compute the gradient of the log likelihoood function. \n",
    "\n",
    "Complete the `compute_avglogL` function in `logistic_regression.py` for sanity check. \n",
    "\n",
    "Train you model by using `lm.train('0')` function.\n",
    "\n",
    "And print the training and testing accuracy using `lm.predict` and `lm.compute_accuracy` given. "
   ]
  },
  {
   "cell_type": "code",
   "execution_count": 7,
   "metadata": {},
   "outputs": [
    {
     "name": "stdout",
     "output_type": "stream",
     "text": [
      "average logL for iteration 0: -0.5561796575778383 \t\n",
      "average logL for iteration 1000: -0.4615656578257467 \t\n",
      "average logL for iteration 2000: -0.4615656578257467 \t\n",
      "average logL for iteration 3000: -0.4615656578257467 \t\n",
      "average logL for iteration 4000: -0.4615656578257467 \t\n",
      "average logL for iteration 5000: -0.4615656578257467 \t\n",
      "average logL for iteration 6000: -0.4615656578257467 \t\n",
      "average logL for iteration 7000: -0.4615656578257467 \t\n",
      "average logL for iteration 8000: -0.4615656578257467 \t\n",
      "average logL for iteration 9000: -0.4615656578257467 \t\n",
      "Training avgLogL:  -0.4615656578257467\n",
      "Training accuracy is:  0.798\n",
      "Testing accuracy is:  0.7495029821073559\n"
     ]
    }
   ],
   "source": [
    "lm=LogisticRegression()\n",
    "lm.load_data('./data/logistic-regression-train.csv','./data/logistic-regression-test.csv')\n",
    "training_accuracy= 0\n",
    "testing_accuracy= 0\n",
    "#========================#\n",
    "# STRART YOUR CODE HERE  #\n",
    "#========================#\n",
    "lm.normalize()\n",
    "beta = lm.train('0')\n",
    "train_predict = lm.predict(lm.train_x.values, beta)\n",
    "test_predict = lm.predict(lm.test_x.values, beta)\n",
    "training_accuracy =  lm.compute_accuracy(train_predict,lm.train_y.values)\n",
    "testing_accuracy = lm.compute_accuracy(test_predict, lm.test_y.values)\n",
    "#========================#\n",
    "#   END YOUR CODE HERE   #\n",
    "#========================# \n",
    "print('Training accuracy is: ', training_accuracy)\n",
    "print('Testing accuracy is: ', testing_accuracy)"
   ]
  },
  {
   "cell_type": "markdown",
   "metadata": {},
   "source": [
    "### 2.2 Newton Raphhson\n",
    "In this section, complete the `getBeta_Newton` in `logistic_regression.py`, which make use of both first and second derivative.\n",
    "\n",
    "Train you model by using `lm.train('1')` function.\n",
    "\n",
    "Print the training and testing accuracy using `lm.predict` and `lm.compute_accuracy` given. "
   ]
  },
  {
   "cell_type": "code",
   "execution_count": 8,
   "metadata": {},
   "outputs": [
    {
     "name": "stdout",
     "output_type": "stream",
     "text": [
      "average logL for iteration 0: -0.7139731229909018 \t\n",
      "average logL for iteration 500: -0.5558529778896625 \t\n",
      "average logL for iteration 1000: -0.49990618171705625 \t\n",
      "average logL for iteration 1500: -0.4766183024021117 \t\n",
      "average logL for iteration 2000: -0.46678224234711174 \t\n",
      "average logL for iteration 2500: -0.4627302012028891 \t\n",
      "average logL for iteration 3000: -0.4611124973709076 \t\n",
      "average logL for iteration 3500: -0.46048365917256584 \t\n",
      "average logL for iteration 4000: -0.46024395049229505 \t\n",
      "average logL for iteration 4500: -0.4601537801568773 \t\n",
      "average logL for iteration 5000: -0.4601201520274992 \t\n",
      "average logL for iteration 5500: -0.46010767881536613 \t\n",
      "average logL for iteration 6000: -0.4601030679263344 \t\n",
      "average logL for iteration 6500: -0.46010136699582815 \t\n",
      "average logL for iteration 7000: -0.46010074033149045 \t\n",
      "average logL for iteration 7500: -0.46010050963239185 \t\n",
      "average logL for iteration 8000: -0.4601004247433812 \t\n",
      "average logL for iteration 8500: -0.4601003935162356 \t\n",
      "average logL for iteration 9000: -0.460100382031068 \t\n",
      "average logL for iteration 9500: -0.46010037780733604 \t\n",
      "Training avgLogL:  -0.4601003762559442\n",
      "Training accuracy is:  0.797\n",
      "Testing accuracy is:  0.7534791252485089\n"
     ]
    }
   ],
   "source": [
    "lm=LogisticRegression()\n",
    "lm.load_data('./data/logistic-regression-train.csv','./data/logistic-regression-test.csv')\n",
    "training_accuracy= 0\n",
    "testing_accuracy= 0\n",
    "#========================#\n",
    "# STRART YOUR CODE HERE  #\n",
    "#========================#\n",
    "lm.normalize()\n",
    "beta = lm.train('1')\n",
    "train_predict = lm.predict(lm.train_x.values, beta)\n",
    "test_predict = lm.predict(lm.test_x.values, beta)\n",
    "training_accuracy =  lm.compute_accuracy(train_predict,lm.train_y.values)\n",
    "testing_accuracy = lm.compute_accuracy(test_predict, lm.test_y.values)\n",
    "#========================#\n",
    "#   END YOUR CODE HERE   #\n",
    "#========================# \n",
    "print('Training accuracy is: ', training_accuracy)\n",
    "print('Testing accuracy is: ', testing_accuracy)"
   ]
  },
  {
   "cell_type": "markdown",
   "metadata": {},
   "source": [
    "### Questions: \n",
    "1. Compare the accuracy on the testing dataset for each version. Are they the same? Why or why not?\n",
    "2. Regularization. Similar to linear regression, an regularization term could be added to logistic regression. \n",
    "The objective function becomes following: \n",
    "    $$ J(\\beta) = -\\frac{1}{n} \\sum_i \\left(y_i x_i^T \\beta - \\log \\left( 1+ \\exp\\{ x_i^T \\beta \\} \\right) \\right) + \\lambda \\sum_j \\beta_j^2,$$ \n",
    "where $\\lambda \\leq 0$, which is a hyper parameter that controls the trade off. Take the derivative $\\frac{\\partial J(\\beta)}{\\partial \\beta_j}$ of this provided objective function and provide the batch gradient descent update."
   ]
  },
  {
   "cell_type": "markdown",
   "metadata": {},
   "source": [
    "### Your answer here:"
   ]
  },
  {
   "cell_type": "markdown",
   "metadata": {},
   "source": [
    "<span style=\"color:blue\"> 1. They are the same with a very small difference in their precisions. And it makes sense as they both have the same optimal point;both algorithms are guarenteeed to converge. </span><br>\n",
    "<span style=\"color:blue\"> 2. $$ \\beta_{new} = \\beta_{old} + \\frac{\\partial J(\\beta)}{\\partial \\beta_j} $$ \n",
    "    $$ \\frac{\\partial J(\\beta)}{\\partial \\beta_j} = (XY - X \\sigma(\\beta) + 2 \\lambda \\beta) $$\n",
    "</span>"
   ]
  },
  {
   "cell_type": "markdown",
   "metadata": {},
   "source": [
    "### 2.3 Visualize the decision boundary on a toy dataset\n",
    "\n",
    "In this subsection, you will use the same implementation for another small dataset with each datapoint $x$ with only two features $(x_1, x_2)$ to visualize the decision boundary of logistic regression model."
   ]
  },
  {
   "cell_type": "code",
   "execution_count": 9,
   "metadata": {},
   "outputs": [
    {
     "name": "stdout",
     "output_type": "stream",
     "text": [
      "Training data shape:  (99, 2)\n",
      "Training labels shape: (99,)\n"
     ]
    }
   ],
   "source": [
    "from hw1code.logistic_regression import LogisticRegression\n",
    "\n",
    "lm=LogisticRegression(verbose = False)\n",
    "lm.load_data('./data/logistic-regression-toy.csv','./data/logistic-regression-toy.csv')\n",
    "# As a sanity chech, we print out the size of the training data (99,2) and training labels (99,)\n",
    "print('Training data shape: ', lm.train_x.shape)\n",
    "print('Training labels shape:', lm.train_y.shape)"
   ]
  },
  {
   "cell_type": "markdown",
   "metadata": {},
   "source": [
    "In the following block, you can apply the same implementation of logistic regression model (either in 2.1 or 2.2) to the toy dataset. Print out the $\\hat{\\beta}$ after training and accuracy on the train set.  "
   ]
  },
  {
   "cell_type": "code",
   "execution_count": 10,
   "metadata": {},
   "outputs": [
    {
     "name": "stdout",
     "output_type": "stream",
     "text": [
      "Training avgLogL:  -0.3291474312957121\n",
      "Training accuracy is:  0.8888888888888888\n",
      "Beta:  [-0.04717577  1.46005896  2.06586134]\n"
     ]
    }
   ],
   "source": [
    "training_accuracy= 0\n",
    "#========================#\n",
    "# STRART YOUR CODE HERE  #\n",
    "#========================#\n",
    "lm.normalize()\n",
    "beta = lm.train('1')\n",
    "train_predict = lm.predict(lm.train_x.values, beta)\n",
    "training_accuracy =  lm.compute_accuracy(train_predict,lm.train_y.values)\n",
    "#========================#\n",
    "#   END YOUR CODE HERE   #\n",
    "#========================# \n",
    "print('Training accuracy is: ', training_accuracy)\n",
    "print('Beta: ', beta)"
   ]
  },
  {
   "cell_type": "markdown",
   "metadata": {},
   "source": [
    "Next, we try to plot the decision boundary of your learned logistic regression classifier. Generally, a decision boundary is the region of a space in which the output label of a classifier is ambiguous. That is, in the given toy data, given a datapoint $x=(x_1, x_2)$ on the decision boundary, the logistic regression classifier cannot decide whether $y=0$ or $y=1$. "
   ]
  },
  {
   "cell_type": "markdown",
   "metadata": {},
   "source": [
    "### Question\n",
    "\n",
    "Is the decision boundary for logistic regression linear? Why or why not?"
   ]
  },
  {
   "cell_type": "markdown",
   "metadata": {},
   "source": [
    "### Your answer here:"
   ]
  },
  {
   "cell_type": "markdown",
   "metadata": {},
   "source": [
    "<span style=\"color:blue\"> Yes, because the probablity can be written as a linear function p = beta.dot(x) which is linear as we are classifying the two features and the line seperates them</span>"
   ]
  },
  {
   "cell_type": "markdown",
   "metadata": {},
   "source": [
    "Draw the decision boundary in the following cell. Note that the code to plot the raw data points are given. You may need `plt.plot` function (see [here](https://matplotlib.org/tutorials/introductory/pyplot.html)). "
   ]
  },
  {
   "cell_type": "code",
   "execution_count": 14,
   "metadata": {},
   "outputs": [
    {
     "data": {
      "image/png": "[encoded data removed]",
      "text/plain": [
       "<Figure size 432x288 with 1 Axes>"
      ]
     },
     "metadata": {
      "needs_background": "light"
     },
     "output_type": "display_data"
    }
   ],
   "source": [
    "# scatter plot the raw data\n",
    "df = pd.concat([lm.train_x, lm.train_y], axis=1)\n",
    "groups = df.groupby(\"y\")\n",
    "for name, group in groups:\n",
    "    plt.plot(group[\"x1\"], group[\"x2\"], marker=\"o\", linestyle=\"\", label=name)\n",
    "    \n",
    "# plot the decision boundary on top of the scattered points\n",
    "#========================#\n",
    "# STRART YOUR CODE HERE  #\n",
    "#========================#\n",
    "db = -(beta[0] + beta[1] * df[['x1','x2']]) / beta[2]\n",
    "plt.plot(X, db, 'r^')\n",
    "#========================#\n",
    "#   END YOUR CODE HERE   #\n",
    "#========================#\n",
    "plt.show()"
   ]
  },
  {
   "cell_type": "markdown",
   "metadata": {},
   "source": [
    "# End of Homework 1 :)\n",
    "After you've finished the homework, please print out the entire `ipynb` notebook and two `py` files into one PDF file. Make sure you include the output of code cells and answers for questions. Prepare submit it to GradeScope. "
   ]
  }
 ],
 "metadata": {
  "kernelspec": {
   "display_name": "Python 3",
   "language": "python",
   "name": "python3"
  },
  "language_info": {
   "codemirror_mode": {
    "name": "ipython",
    "version": 3
   },
   "file_extension": ".py",
   "mimetype": "text/x-python",
   "name": "python",
   "nbconvert_exporter": "python",
   "pygments_lexer": "ipython3",
   "version": "3.8.3"
  }
 },
 "nbformat": 4,
 "nbformat_minor": 4
}
